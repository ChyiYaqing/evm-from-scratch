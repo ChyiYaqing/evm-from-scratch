{
 "cells": [
  {
   "cell_type": "markdown",
   "id": "d8809502",
   "metadata": {},
   "source": [
    "# Stack"
   ]
  },
  {
   "cell_type": "markdown",
   "id": "af1e9462",
   "metadata": {},
   "source": [
    "A stack is a very simple data structure.\n",
    "It is a basically a list with the following special property.\n",
    "\n",
    "You can only directly interact with the top of the stack. You can `push` a value to the top of the stack and you can `pop` a vaule from the stack."
   ]
  },
  {
   "cell_type": "markdown",
   "id": "d219ccb0",
   "metadata": {},
   "source": [
    "![title](https://t3.ftcdn.net/jpg/00/86/06/84/360_F_86068474_Gmntyf4dZXTH9yWzyQCBaFmEvBQwDPiK.jpg)"
   ]
  },
  {
   "cell_type": "markdown",
   "id": "61d3ad10",
   "metadata": {},
   "source": [
    "A stack of plate is a good metaphor. You can add a plate from the top or remove a plate from the top.\n",
    "A stack works in the exact same way."
   ]
  },
  {
   "cell_type": "code",
   "execution_count": 21,
   "id": "102cacf7",
   "metadata": {},
   "outputs": [],
   "source": [
    "class Stack:\n",
    "    def __init__(self): self.items = []\n",
    "    def __str__ (self): return \"\\n\".join(map(str, self.items[::-1]))\n",
    "        \n",
    "    def push(self, value): self.items.append(value)    \n",
    "    def pop (self)       : return self.items.pop()"
   ]
  },
  {
   "cell_type": "markdown",
   "id": "632196ec",
   "metadata": {},
   "source": [
    "We create a Stack"
   ]
  },
  {
   "cell_type": "code",
   "execution_count": 25,
   "id": "aaaf2494",
   "metadata": {},
   "outputs": [],
   "source": [
    "stack = Stack()"
   ]
  },
  {
   "cell_type": "markdown",
   "id": "6da0e02f",
   "metadata": {},
   "source": [
    "We push 3 values to the stack"
   ]
  },
  {
   "cell_type": "code",
   "execution_count": 26,
   "id": "8771e0a0",
   "metadata": {},
   "outputs": [
    {
     "name": "stdout",
     "output_type": "stream",
     "text": [
      "1\n",
      "4\n",
      "2\n"
     ]
    }
   ],
   "source": [
    "stack.push(2)\n",
    "stack.push(4)\n",
    "stack.push(1)\n",
    "\n",
    "print(stack)"
   ]
  },
  {
   "cell_type": "markdown",
   "id": "1da65b97",
   "metadata": {},
   "source": [
    "We pop one of the stack"
   ]
  },
  {
   "cell_type": "code",
   "execution_count": 23,
   "id": "41cf0942",
   "metadata": {},
   "outputs": [
    {
     "name": "stdout",
     "output_type": "stream",
     "text": [
      "1\n"
     ]
    }
   ],
   "source": [
    "print(stack.pop())"
   ]
  },
  {
   "cell_type": "markdown",
   "id": "fb3d028a",
   "metadata": {},
   "source": [
    "Now only 3 values are left on the stack"
   ]
  },
  {
   "cell_type": "code",
   "execution_count": 24,
   "id": "b1612ec9",
   "metadata": {},
   "outputs": [
    {
     "name": "stdout",
     "output_type": "stream",
     "text": [
      "4\n",
      "2\n"
     ]
    }
   ],
   "source": [
    "print(stack)"
   ]
  }
 ],
 "metadata": {
  "kernelspec": {
   "display_name": "Python 3 (ipykernel)",
   "language": "python",
   "name": "python3"
  },
  "language_info": {
   "codemirror_mode": {
    "name": "ipython",
    "version": 3
   },
   "file_extension": ".py",
   "mimetype": "text/x-python",
   "name": "python",
   "nbconvert_exporter": "python",
   "pygments_lexer": "ipython3",
   "version": "3.8.9"
  }
 },
 "nbformat": 4,
 "nbformat_minor": 5
}
