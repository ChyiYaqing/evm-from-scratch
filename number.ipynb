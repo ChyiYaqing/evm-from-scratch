{
 "cells": [
  {
   "cell_type": "code",
   "execution_count": 1,
   "id": "aaba5bd3",
   "metadata": {},
   "outputs": [],
   "source": [
    "class Number:\n",
    "    def __init__(self, value):\n",
    "        self.bytes = value\n",
    "        self.value = self.parse(value)\n",
    "        \n",
    "    def parse(self, value):\n",
    "        if type(value) == list:\n",
    "            return int.from_bytes(bytearray(value), \"big\", signed=False)\n",
    "        return value\n",
    "    \n",
    "    def to_bytes(self):\n",
    "        return [hex(a) for a in self.value.to_bytes(32, byteorder=\"big\")]\n",
    "    \n",
    "    def __len__(self): return len(self.bytes)\n",
    "    def __str__(self): return f\"{self.value}\""
   ]
  },
  {
   "cell_type": "code",
   "execution_count": 8,
   "id": "eec5e0ee",
   "metadata": {},
   "outputs": [
    {
     "data": {
      "text/plain": [
       "3149"
      ]
     },
     "execution_count": 8,
     "metadata": {},
     "output_type": "execute_result"
    }
   ],
   "source": [
    "Number([12, 77]).value"
   ]
  }
 ],
 "metadata": {
  "kernelspec": {
   "display_name": "Python 3 (ipykernel)",
   "language": "python",
   "name": "python3"
  },
  "language_info": {
   "codemirror_mode": {
    "name": "ipython",
    "version": 3
   },
   "file_extension": ".py",
   "mimetype": "text/x-python",
   "name": "python",
   "nbconvert_exporter": "python",
   "pygments_lexer": "ipython3",
   "version": "3.8.9"
  }
 },
 "nbformat": 4,
 "nbformat_minor": 5
}
