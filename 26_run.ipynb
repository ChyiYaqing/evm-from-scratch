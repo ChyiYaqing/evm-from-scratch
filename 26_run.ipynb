{
 "cells": [
  {
   "cell_type": "code",
   "execution_count": 128,
   "id": "3e486478",
   "metadata": {},
   "outputs": [],
   "source": [
    "%%capture\n",
    "%run evm.ipynb\n",
    "%run bytecode.ipynb"
   ]
  },
  {
   "cell_type": "code",
   "execution_count": 129,
   "id": "d2f28323",
   "metadata": {},
   "outputs": [],
   "source": [
    "GAS = 21_000"
   ]
  },
  {
   "cell_type": "markdown",
   "id": "22a5936c",
   "metadata": {},
   "source": [
    "Set up the EVM"
   ]
  },
  {
   "cell_type": "code",
   "execution_count": 130,
   "id": "ecb05fe2",
   "metadata": {},
   "outputs": [],
   "source": [
    "evm = EVM(SIMPLE_ADD, GAS)"
   ]
  },
  {
   "cell_type": "markdown",
   "id": "42b8dd02",
   "metadata": {},
   "source": [
    "Run it!"
   ]
  },
  {
   "cell_type": "code",
   "execution_count": 131,
   "id": "329276d5",
   "metadata": {},
   "outputs": [],
   "source": [
    "evm.run()"
   ]
  },
  {
   "cell_type": "markdown",
   "id": "eee75486",
   "metadata": {},
   "source": [
    "Take a look at the result"
   ]
  },
  {
   "cell_type": "code",
   "execution_count": 132,
   "id": "b6b6da94",
   "metadata": {},
   "outputs": [
    {
     "name": "stdout",
     "output_type": "stream",
     "text": [
      "321\n"
     ]
    }
   ],
   "source": [
    "print(evm.stack)"
   ]
  }
 ],
 "metadata": {
  "kernelspec": {
   "display_name": "Python 3 (ipykernel)",
   "language": "python",
   "name": "python3"
  },
  "language_info": {
   "codemirror_mode": {
    "name": "ipython",
    "version": 3
   },
   "file_extension": ".py",
   "mimetype": "text/x-python",
   "name": "python",
   "nbconvert_exporter": "python",
   "pygments_lexer": "ipython3",
   "version": "3.8.9"
  }
 },
 "nbformat": 4,
 "nbformat_minor": 5
}
