{
 "cells": [
  {
   "cell_type": "code",
   "execution_count": 128,
   "id": "f7bd727d",
   "metadata": {},
   "outputs": [],
   "source": [
    "%%capture\n",
    "%run evm.ipynb\n",
    "%run bytecode.ipynb"
   ]
  },
  {
   "cell_type": "code",
   "execution_count": 129,
   "id": "ced15ada",
   "metadata": {},
   "outputs": [],
   "source": [
    "GAS = 21_000"
   ]
  },
  {
   "cell_type": "markdown",
   "id": "e992e4d5",
   "metadata": {},
   "source": [
    "Set up the EVM"
   ]
  },
  {
   "cell_type": "code",
   "execution_count": 130,
   "id": "dd61fcdb",
   "metadata": {},
   "outputs": [],
   "source": [
    "evm = EVM(SIMPLE_ADD, GAS)"
   ]
  },
  {
   "cell_type": "markdown",
   "id": "f29be7d7",
   "metadata": {},
   "source": [
    "Run it!"
   ]
  },
  {
   "cell_type": "code",
   "execution_count": 131,
   "id": "41304ed0",
   "metadata": {},
   "outputs": [],
   "source": [
    "evm.run()"
   ]
  },
  {
   "cell_type": "markdown",
   "id": "1cd1d5ba",
   "metadata": {},
   "source": [
    "Take a look at the result"
   ]
  },
  {
   "cell_type": "code",
   "execution_count": 132,
   "id": "682a198c",
   "metadata": {},
   "outputs": [
    {
     "name": "stdout",
     "output_type": "stream",
     "text": [
      "321\n"
     ]
    }
   ],
   "source": [
    "print(evm.stack)"
   ]
  }
 ],
 "metadata": {
  "kernelspec": {
   "display_name": "Python 3 (ipykernel)",
   "language": "python",
   "name": "python3"
  },
  "language_info": {
   "codemirror_mode": {
    "name": "ipython",
    "version": 3
   },
   "file_extension": ".py",
   "mimetype": "text/x-python",
   "name": "python",
   "nbconvert_exporter": "python",
   "pygments_lexer": "ipython3",
   "version": "3.8.9"
  }
 },
 "nbformat": 4,
 "nbformat_minor": 5
}
