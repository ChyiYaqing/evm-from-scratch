{
 "cells": [
  {
   "cell_type": "code",
   "execution_count": 2,
   "id": "098d705c",
   "metadata": {},
   "outputs": [],
   "source": [
    "def _push(evm, n):\n",
    "    evm.pc += 1\n",
    "    evm.gas_dec(3)\n",
    "    \n",
    "    value = []\n",
    "    for _ in range(n):\n",
    "        value.append(evm.peek())\n",
    "        evm.pc += 1\n",
    "    evm.stack.push(value)"
   ]
  }
 ],
 "metadata": {
  "kernelspec": {
   "display_name": "Python 3 (ipykernel)",
   "language": "python",
   "name": "python3"
  },
  "language_info": {
   "codemirror_mode": {
    "name": "ipython",
    "version": 3
   },
   "file_extension": ".py",
   "mimetype": "text/x-python",
   "name": "python",
   "nbconvert_exporter": "python",
   "pygments_lexer": "ipython3",
   "version": "3.8.9"
  }
 },
 "nbformat": 4,
 "nbformat_minor": 5
}
