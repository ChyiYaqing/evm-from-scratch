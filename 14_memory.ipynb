{
 "cells": [
  {
   "cell_type": "code",
   "execution_count": 1,
   "id": "6138c94e",
   "metadata": {},
   "outputs": [],
   "source": [
    "def mload(evm): \n",
    "    offset = evm.stack.pop()\n",
    "    value = evm.memory.load(offset)\n",
    "    evm.stack.push(value)\n",
    "    evm.pc += 1"
   ]
  },
  {
   "cell_type": "code",
   "execution_count": 2,
   "id": "424c7048",
   "metadata": {},
   "outputs": [],
   "source": [
    "def mstore(evm): \n",
    "    # TODO: should be right aligned\n",
    "    offset, value = evm.stack.pop(), cpu.stack.pop()\n",
    "    evm.memory.store(offset, value)\n",
    "    evm.pc += 1"
   ]
  },
  {
   "cell_type": "code",
   "execution_count": 3,
   "id": "210cabec",
   "metadata": {},
   "outputs": [],
   "source": [
    "def mstore8(evm): \n",
    "    offset, value = evm.stack.pop(), evm.stack.pop()\n",
    "    evm.memory.store(offset, value)\n",
    "    evm.pc += 1"
   ]
  }
 ],
 "metadata": {
  "kernelspec": {
   "display_name": "Python 3 (ipykernel)",
   "language": "python",
   "name": "python3"
  },
  "language_info": {
   "codemirror_mode": {
    "name": "ipython",
    "version": 3
   },
   "file_extension": ".py",
   "mimetype": "text/x-python",
   "name": "python",
   "nbconvert_exporter": "python",
   "pygments_lexer": "ipython3",
   "version": "3.8.9"
  }
 },
 "nbformat": 4,
 "nbformat_minor": 5
}
