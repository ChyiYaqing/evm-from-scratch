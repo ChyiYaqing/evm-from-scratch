{
 "cells": [
  {
   "cell_type": "code",
   "execution_count": 67,
   "id": "28a21e44",
   "metadata": {},
   "outputs": [],
   "source": [
    "%%capture\n",
    "%run number.ipynb"
   ]
  },
  {
   "cell_type": "markdown",
   "id": "e2d12443",
   "metadata": {},
   "source": [
    "# Memory"
   ]
  },
  {
   "cell_type": "markdown",
   "id": "fca10ea3",
   "metadata": {},
   "source": [
    "The memory is basically a long list of bytes. It start of empty. Everytime we need to make that list bigger we have to pay a gas fee.\n",
    "\n",
    "Each memory cell can hold 1 byte (256 bits). A number between 0x00 (0) and 0xFF (255)."
   ]
  },
  {
   "cell_type": "markdown",
   "id": "0c30235e",
   "metadata": {},
   "source": [
    "![title](static/memory.png)"
   ]
  },
  {
   "cell_type": "code",
   "execution_count": 68,
   "id": "cd8a1b8c",
   "metadata": {},
   "outputs": [],
   "source": [
    "class SimpleMemory:\n",
    "    def __init__(self): self.memory = []\n",
    "        \n",
    "    def access(self, offset, size): return self.memory[offset:offset+size]\n",
    "    def load  (self, offset):       return self.access(offset, 32)\n",
    "    def store (self, offset, value): self.memory[offset:len(value)] = value"
   ]
  },
  {
   "cell_type": "markdown",
   "id": "7eef0025",
   "metadata": {},
   "source": [
    "We need to add logic in order to calculate the exact gas of extending the memory.\n",
    "\n",
    "I don't think we need to understand every detail here. Important to know is this: Accessing new offsets increases the memory. Memory expansion costs gas non-linearly. Making it more costly to access higher offsets."
   ]
  },
  {
   "cell_type": "code",
   "execution_count": 69,
   "id": "15bc19a2",
   "metadata": {},
   "outputs": [],
   "source": [
    "def calc_memory_expansion_gas(memory_byte_size):\n",
    "    memory_size_word = (memory_byte_size + 31) / 32\n",
    "    memory_cost = (memory_size_word ** 2) / 512 + (3 * memory_size_word)\n",
    "    return round(memory_cost)"
   ]
  },
  {
   "cell_type": "markdown",
   "id": "adfec8c8",
   "metadata": {},
   "source": [
    "Lets add the gas expansion calculation to the Memory"
   ]
  },
  {
   "cell_type": "code",
   "execution_count": 70,
   "id": "d29147a2",
   "metadata": {},
   "outputs": [],
   "source": [
    "class Memory(SimpleMemory):\n",
    "    def store(self, offset, value):\n",
    "        memory_expansion_cost = 0\n",
    "        \n",
    "        if len(self.memory) <= offset:\n",
    "            \n",
    "            expansion_size = 0\n",
    "            \n",
    "            # initialize memory with 32 zeros if it is empty\n",
    "            if len(self.memory) == 0:\n",
    "                expansion_size = 32\n",
    "                self.memory = [0x00 for _ in range(32)]\n",
    "                \n",
    "            # extend memory if needed\n",
    "            if len(self.memory) - offset < 0:\n",
    "                expansion_size += offset - len(self.memory)\n",
    "                self.memory.append(0x00 * expansion_size)\n",
    "                \n",
    "            memory_expansion_cost = calc_memory_expansion_gas(expansion_size)\n",
    "                \n",
    "        super().store(offset, value)\n",
    "        return memory_expansion_cost"
   ]
  },
  {
   "cell_type": "code",
   "execution_count": 81,
   "id": "77ec910e",
   "metadata": {},
   "outputs": [],
   "source": [
    "memory = Memory()"
   ]
  },
  {
   "cell_type": "code",
   "execution_count": 88,
   "id": "86464c14",
   "metadata": {},
   "outputs": [],
   "source": [
    "number = Number([0x12, 0x33])"
   ]
  },
  {
   "cell_type": "code",
   "execution_count": 92,
   "id": "1774d845",
   "metadata": {},
   "outputs": [
    {
     "data": {
      "text/plain": [
       "[18, 51]"
      ]
     },
     "execution_count": 92,
     "metadata": {},
     "output_type": "execute_result"
    }
   ],
   "source": [
    "number.bytes"
   ]
  },
  {
   "cell_type": "code",
   "execution_count": 95,
   "id": "b1e6edcc",
   "metadata": {},
   "outputs": [
    {
     "data": {
      "text/plain": [
       "[18,\n",
       " 51,\n",
       " 0,\n",
       " 0,\n",
       " 0,\n",
       " 0,\n",
       " 0,\n",
       " 0,\n",
       " 0,\n",
       " 0,\n",
       " 0,\n",
       " 0,\n",
       " 0,\n",
       " 0,\n",
       " 0,\n",
       " 0,\n",
       " 0,\n",
       " 0,\n",
       " 0,\n",
       " 0,\n",
       " 0,\n",
       " 0,\n",
       " 0,\n",
       " 0,\n",
       " 0,\n",
       " 0,\n",
       " 0,\n",
       " 0,\n",
       " 0,\n",
       " 0,\n",
       " 0,\n",
       " 0]"
      ]
     },
     "execution_count": 95,
     "metadata": {},
     "output_type": "execute_result"
    }
   ],
   "source": [
    "memory.store(0, number.bytes)\n",
    "memory.load(0)"
   ]
  }
 ],
 "metadata": {
  "kernelspec": {
   "display_name": "Python 3 (ipykernel)",
   "language": "python",
   "name": "python3"
  },
  "language_info": {
   "codemirror_mode": {
    "name": "ipython",
    "version": 3
   },
   "file_extension": ".py",
   "mimetype": "text/x-python",
   "name": "python",
   "nbconvert_exporter": "python",
   "pygments_lexer": "ipython3",
   "version": "3.8.9"
  }
 },
 "nbformat": 4,
 "nbformat_minor": 5
}
