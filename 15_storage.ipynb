{
 "cells": [
  {
   "cell_type": "code",
   "execution_count": 2,
   "id": "ae2ab819",
   "metadata": {},
   "outputs": [],
   "source": [
    "def sload(evm): \n",
    "    key = evm.stack.pop().value\n",
    "    warm, value = evm.storage.load(key)\n",
    "    evm.stack.push(value)\n",
    "\n",
    "    evm.gas_dec(2100) # 100 if warm\n",
    "    evm.pc += 1"
   ]
  },
  {
   "cell_type": "code",
   "execution_count": 3,
   "id": "69b473ab",
   "metadata": {},
   "outputs": [],
   "source": [
    "def sstore(evm): \n",
    "    key, value = evm.stack.pop(), evm.stack.pop()\n",
    "    warm, old_value = evm.storage.store(key, value)\n",
    "\n",
    "    base_dynamic_gas = 0\n",
    "\n",
    "    # TODO: test\n",
    "    if value != old_value:\n",
    "        if old_value == 0:\n",
    "            base_dynamic_gas = 20000\n",
    "        else:\n",
    "            base_dynamic_gas = 2900\n",
    "\n",
    "    access_cost = 100 if warm else 2100\n",
    "    evm.gas_dec(base_dynamic_gas + access_cost)\n",
    "\n",
    "    evm.pc += 1\n",
    "\n",
    "    # TODO: do refunds"
   ]
  }
 ],
 "metadata": {
  "kernelspec": {
   "display_name": "Python 3 (ipykernel)",
   "language": "python",
   "name": "python3"
  },
  "language_info": {
   "codemirror_mode": {
    "name": "ipython",
    "version": 3
   },
   "file_extension": ".py",
   "mimetype": "text/x-python",
   "name": "python",
   "nbconvert_exporter": "python",
   "pygments_lexer": "ipython3",
   "version": "3.8.9"
  }
 },
 "nbformat": 4,
 "nbformat_minor": 5
}
