{
 "cells": [
  {
   "cell_type": "markdown",
   "id": "2144956c",
   "metadata": {},
   "source": [
    "# EVM State"
   ]
  },
  {
   "cell_type": "markdown",
   "id": "bbbd8678",
   "metadata": {},
   "source": [
    "The EVM is a state machine. A valid Ethereum program or valid bytecode can manipulate that state."
   ]
  },
  {
   "cell_type": "markdown",
   "id": "1f2d6ffc",
   "metadata": {},
   "source": [
    "A specific opcode is an operation that manipulates that state."
   ]
  },
  {
   "cell_type": "markdown",
   "id": "02788f04",
   "metadata": {},
   "source": [
    "### Program Counter (pc)"
   ]
  },
  {
   "cell_type": "markdown",
   "id": "630b9387",
   "metadata": {},
   "source": [
    "The program counter points to the next opcode that the EVM is going to execute."
   ]
  },
  {
   "cell_type": "markdown",
   "id": "1edc1314",
   "metadata": {},
   "source": [
    "### Stack / Memory / Storage"
   ]
  },
  {
   "cell_type": "markdown",
   "id": "eefe4bf0",
   "metadata": {},
   "source": [
    "All of them are part of the EVM state. And are the areas where the EVM manipulates and stores data."
   ]
  },
  {
   "cell_type": "markdown",
   "id": "45b855a7",
   "metadata": {},
   "source": [
    "### Program"
   ]
  },
  {
   "cell_type": "markdown",
   "id": "3c4cdc42",
   "metadata": {},
   "source": [
    "This is where we store the bytecode of the current program. It can not change during execution, which makes it immutable."
   ]
  },
  {
   "cell_type": "markdown",
   "id": "0375459a",
   "metadata": {},
   "source": [
    "### Gas"
   ]
  },
  {
   "cell_type": "markdown",
   "id": "188bb1d3",
   "metadata": {},
   "source": [
    "We need to keep track how much gas we currently have and how much we already consumed. Most opcodes make the gas counter go down."
   ]
  },
  {
   "cell_type": "markdown",
   "id": "7d8d4257",
   "metadata": {},
   "source": [
    "### Value"
   ]
  },
  {
   "cell_type": "markdown",
   "id": "202940ec",
   "metadata": {},
   "source": [
    "How much Ether (wei) this current execution can consume."
   ]
  },
  {
   "cell_type": "markdown",
   "id": "e55627c4",
   "metadata": {},
   "source": [
    "### Calldata"
   ]
  },
  {
   "cell_type": "markdown",
   "id": "d49ae8ff",
   "metadata": {},
   "source": [
    "Is the input to our program."
   ]
  },
  {
   "cell_type": "markdown",
   "id": "9f165e2e",
   "metadata": {},
   "source": [
    "### Flags"
   ]
  },
  {
   "cell_type": "markdown",
   "id": "acc4a37c",
   "metadata": {},
   "source": [
    "We are going to keep track of two flags. The `stop_flag` and `revert_flag`. If one of them is `True` the current execution is going to stop."
   ]
  },
  {
   "cell_type": "code",
   "execution_count": 3,
   "id": "ac69f3ea",
   "metadata": {},
   "outputs": [],
   "source": [
    "class State:\n",
    "    def __init__(self,\n",
    "                 program,\n",
    "                 gas,\n",
    "                 value,\n",
    "                 calldata=[]):\n",
    "        self.pc      = 0\n",
    "        \n",
    "        self.stack   = Stack()\n",
    "        self.memory  = Memory()\n",
    "        self.storage = Storage()\n",
    "        \n",
    "        self.program  = program\n",
    "        self.gas      = gas\n",
    "        self.value    = value\n",
    "        self.calldata = calldata\n",
    "        \n",
    "        self.stop_flag   = False\n",
    "        self.revert_flag = False"
   ]
  }
 ],
 "metadata": {
  "kernelspec": {
   "display_name": "Python 3 (ipykernel)",
   "language": "python",
   "name": "python3"
  },
  "language_info": {
   "codemirror_mode": {
    "name": "ipython",
    "version": 3
   },
   "file_extension": ".py",
   "mimetype": "text/x-python",
   "name": "python",
   "nbconvert_exporter": "python",
   "pygments_lexer": "ipython3",
   "version": "3.8.9"
  }
 },
 "nbformat": 4,
 "nbformat_minor": 5
}
