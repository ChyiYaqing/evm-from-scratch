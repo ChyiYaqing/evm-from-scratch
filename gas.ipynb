{
 "cells": [
  {
   "cell_type": "markdown",
   "id": "c0744d13",
   "metadata": {},
   "source": [
    "Every Ethereum node has to execute the same bytecode. To avoid a DDOS attack for example every opcode costs a specific amount of gas.\n",
    "\n",
    "Gas has to be paid in ETH. If you run out of gas while executing your bytecode your execution stops."
   ]
  },
  {
   "cell_type": "code",
   "execution_count": 1,
   "id": "36996368",
   "metadata": {},
   "outputs": [],
   "source": [
    "## Gas"
   ]
  }
 ],
 "metadata": {
  "kernelspec": {
   "display_name": "Python 3 (ipykernel)",
   "language": "python",
   "name": "python3"
  },
  "language_info": {
   "codemirror_mode": {
    "name": "ipython",
    "version": 3
   },
   "file_extension": ".py",
   "mimetype": "text/x-python",
   "name": "python",
   "nbconvert_exporter": "python",
   "pygments_lexer": "ipython3",
   "version": "3.8.9"
  }
 },
 "nbformat": 4,
 "nbformat_minor": 5
}
