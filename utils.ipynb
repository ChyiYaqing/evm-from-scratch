{
 "cells": [
  {
   "cell_type": "code",
   "execution_count": 2,
   "id": "dcd20297",
   "metadata": {},
   "outputs": [],
   "source": [
    "UINT_256_MAX          = 2**256 - 1\n",
    "UINT_256_CEILING      = 2**256\n",
    "UINT_255_MAX          = 2**255 - 1\n",
    "UINT_255_CEILING      = 2**255\n",
    "UINT_255_NEGATIVE_ONE = -1 + UINT_256_CEILING"
   ]
  },
  {
   "cell_type": "code",
   "execution_count": 3,
   "id": "e3ff08f8",
   "metadata": {},
   "outputs": [],
   "source": [
    "def unsigned_to_signed(value):\n",
    "    if value <= UINT_255_MAX: return value\n",
    "    else: return value - UINT_256_CEILING"
   ]
  }
 ],
 "metadata": {
  "kernelspec": {
   "display_name": "Python 3 (ipykernel)",
   "language": "python",
   "name": "python3"
  },
  "language_info": {
   "codemirror_mode": {
    "name": "ipython",
    "version": 3
   },
   "file_extension": ".py",
   "mimetype": "text/x-python",
   "name": "python",
   "nbconvert_exporter": "python",
   "pygments_lexer": "ipython3",
   "version": "3.8.9"
  }
 },
 "nbformat": 4,
 "nbformat_minor": 5
}
