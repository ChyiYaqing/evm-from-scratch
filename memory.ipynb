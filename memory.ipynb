{
 "cells": [
  {
   "cell_type": "markdown",
   "id": "e2d12443",
   "metadata": {},
   "source": [
    "# Memory"
   ]
  },
  {
   "cell_type": "markdown",
   "id": "fca10ea3",
   "metadata": {},
   "source": [
    "The memory is basically a long list of bytes. It start of empty. Everytime we need to make that list bigger we have to pay a gas fee."
   ]
  },
  {
   "cell_type": "code",
   "execution_count": 1,
   "id": "cd8a1b8c",
   "metadata": {},
   "outputs": [],
   "source": [
    "class SimpleMemory:\n",
    "    def __init__(self): self.memory = []\n",
    "        \n",
    "    def access(self, offset, size): return self.memory[offset:offset+size]\n",
    "    def load  (self, offset):       return access(offset, 32)\n",
    "    def store (self, offset, size): return self.memory[offset:len(value)] = value"
   ]
  },
  {
   "cell_type": "markdown",
   "id": "82f25f39",
   "metadata": {},
   "source": [
    "We need to add logic in order to calculate the exact gas of extending the memory."
   ]
  },
  {
   "cell_type": "code",
   "execution_count": 3,
   "id": "00e53029",
   "metadata": {},
   "outputs": [],
   "source": [
    "class Memory(SimpleMemory): pass"
   ]
  },
  {
   "cell_type": "code",
   "execution_count": 4,
   "id": "0b48a8f1",
   "metadata": {},
   "outputs": [
    {
     "data": {
      "text/plain": [
       "[]"
      ]
     },
     "execution_count": 4,
     "metadata": {},
     "output_type": "execute_result"
    }
   ],
   "source": [
    "memory = Memory()\n",
    "memory.memory"
   ]
  }
 ],
 "metadata": {
  "kernelspec": {
   "display_name": "Python 3 (ipykernel)",
   "language": "python",
   "name": "python3"
  },
  "language_info": {
   "codemirror_mode": {
    "name": "ipython",
    "version": 3
   },
   "file_extension": ".py",
   "mimetype": "text/x-python",
   "name": "python",
   "nbconvert_exporter": "python",
   "pygments_lexer": "ipython3",
   "version": "3.8.9"
  }
 },
 "nbformat": 4,
 "nbformat_minor": 5
}
