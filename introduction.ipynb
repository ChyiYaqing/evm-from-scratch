{
 "cells": [
  {
   "cell_type": "markdown",
   "id": "7bfa968e",
   "metadata": {},
   "source": [
    "# Introduction"
   ]
  },
  {
   "cell_type": "markdown",
   "id": "5ac727ec",
   "metadata": {},
   "source": [
    "## EVM\n",
    "\n",
    "We are going to build the EVM from scratch. The EVM or Ethereum Virtual Machine is the execution engine of Ethereum. \n",
    "\n",
    "It is a `Virtual Machine` responsible for executing `bytecode`."
   ]
  },
  {
   "cell_type": "markdown",
   "id": "78aa99e2",
   "metadata": {},
   "source": [
    "## Virutal Machine\n",
    "\n",
    "Its a pretend (virtual) computer running on your real computer. Just like a real computer it has its own language.\n",
    "\n",
    "This language is called the `instruction set`. These operations are very simple and are actually implemented in your hardware itself.\n",
    "\n",
    "The EVM is `virtual`. It is software not hardware. It is `simulating` a cpu on top of your real cpu.\n",
    "Like any other cpu it has its own `instruction set`. Instructions in the instruction set are also called `opcodes`.\n",
    "\n",
    "Some of these instructions can be seen below:\n",
    "\n",
    "| OPCODE | NAME | DESCRIPTION |\n",
    "|----------|----------|----------|\n",
    "| 0x00 | STOP | Halts Execution |\n",
    "| 0x01 | ADD | Addition operation |\n",
    "| 0x02 | MUL | Multiplication operation |\n",
    "| 0x03 | SUB | Subtraction operation |\n",
    "| 0x04 | DIV | Integer division operation |\n",
    "\n",
    "Currently there are 144 opcodes. You can see all of them [here](https://www.evm.codes/?fork=shanghai). This number changed is not fixed. New opcodes are added and old ones deprecated all the time.\n",
    "\n",
    "[evm.codes](https://www.evm.codes/?fork=shanghai) is an awesome resource for looking up EVM opcodes."
   ]
  },
  {
   "cell_type": "markdown",
   "id": "b9188d1e",
   "metadata": {},
   "source": [
    "## Bytecode"
   ]
  },
  {
   "cell_type": "markdown",
   "id": "6c79b04c",
   "metadata": {},
   "source": [
    "The `bytecode` is simply a list of opcodes put together. So for example `604260005260206000F3` is bytecode.\n",
    "\n",
    "This bytecode is executed by the EVM."
   ]
  },
  {
   "cell_type": "markdown",
   "id": "b5bf0472",
   "metadata": {},
   "source": [
    "## Solidity, Vyper, Huff"
   ]
  },
  {
   "cell_type": "markdown",
   "id": "09d6620f",
   "metadata": {},
   "source": [
    "Solidity, Vyper or even Huff are high-level programming language.\n",
    "\n",
    "Fundamentally a solidity file is just a text file full of strings. This is great for the programmer but useless for the EVM. The EVM can only execute bytecode!\n",
    "\n",
    "Another program is needed to translate Solidity to bytecode. This program is called a `compiler`.\n",
    "\n",
    "Only after the compiler translates the Solidity file it can be executed by the EVM.\n",
    "\n",
    "![title](static/solidity-compiler.png)"
   ]
  },
  {
   "cell_type": "markdown",
   "id": "8c59391c",
   "metadata": {},
   "source": [
    "If a programming language can be translated (compiled) to EVM bytecode it is said to `target` the EVM."
   ]
  },
  {
   "cell_type": "markdown",
   "id": "20c87a75",
   "metadata": {},
   "source": [
    "## Our goal"
   ]
  },
  {
   "cell_type": "markdown",
   "id": "b99b1993",
   "metadata": {},
   "source": [
    "We will not build a compiler or a new programming language that targets the EVM here. Although this would certainly be interesting!\n",
    "\n",
    "We will build the EVM. A virutal machine that executes EVM bytecode.\n",
    "\n",
    "So something that takes in the input `604260005260206000F3` for example and executes that opcode by opcode."
   ]
  }
 ],
 "metadata": {
  "kernelspec": {
   "display_name": "Python 3 (ipykernel)",
   "language": "python",
   "name": "python3"
  },
  "language_info": {
   "codemirror_mode": {
    "name": "ipython",
    "version": 3
   },
   "file_extension": ".py",
   "mimetype": "text/x-python",
   "name": "python",
   "nbconvert_exporter": "python",
   "pygments_lexer": "ipython3",
   "version": "3.8.9"
  }
 },
 "nbformat": 4,
 "nbformat_minor": 5
}
