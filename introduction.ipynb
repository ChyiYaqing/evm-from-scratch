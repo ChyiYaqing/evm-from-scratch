{
 "cells": [
  {
   "cell_type": "markdown",
   "id": "a73a3c4a",
   "metadata": {},
   "source": [
    "# Introduction"
   ]
  },
  {
   "cell_type": "markdown",
   "id": "6b794f53",
   "metadata": {},
   "source": [
    "## EVM\n",
    "\n",
    "We are going to build the EVM from scratch. The EVM or \"Ethereum Virtual Machine\" is the execution engine of Ethereum. \n",
    "\n",
    "It is a `Virtual Machine` responsible for executing `bytecode`."
   ]
  },
  {
   "cell_type": "markdown",
   "id": "ab9242df",
   "metadata": {},
   "source": [
    "## Virutal Machine\n",
    "\n",
    "Its a pretend (virtual) computer running on your real computer. Just like a real computer it has its own language.\n",
    "\n",
    "This language is called the `instruction set`. These operations are very simple and are actually implemented in your hardware itself.\n",
    "\n",
    "The EVM is `virtual`. It is software not hardware. It is `simulating` a cpu on top of your real cpu.\n",
    "Like any other cpu it has its own `instruction set`. Instructions in the instruction set are also called `opcodes`.\n",
    "\n",
    "Some of these instructions can be seen below:\n",
    "\n",
    "| OPCODE | NAME | DESCRIPTION |\n",
    "|----------|----------|----------|\n",
    "| 0x00 | STOP | Halts Execution |\n",
    "| 0x01 | ADD | Addition operation |\n",
    "| 0x02 | MUL | Multiplication operation |\n",
    "| 0x03 | SUB | Subtraction operation |\n",
    "| 0x04 | DIV | Integer division operation |\n",
    "\n",
    "Currently there are 144 opcodes. You can see all of them [here](https://www.evm.codes/?fork=shanghai). This number changed is not fixed. New opcodes are added and old ones deprecated all the time.\n",
    "\n",
    "[evm.codes](https://www.evm.codes/?fork=shanghai) is an awesome resource for looking up EVM opcodes."
   ]
  },
  {
   "cell_type": "markdown",
   "id": "e9101ece",
   "metadata": {},
   "source": [
    "## Bytecode"
   ]
  },
  {
   "cell_type": "markdown",
   "id": "2046970f",
   "metadata": {},
   "source": [
    "The `bytecode` is simply a list of opcodes put together. So for example `604260005260206000F3` is bytecode.\n",
    "\n",
    "A Smart Contract is simply bytecode executed by the EVM."
   ]
  },
  {
   "cell_type": "markdown",
   "id": "b4fd54c6",
   "metadata": {},
   "source": [
    "## Solidity, Vyper, Huff"
   ]
  },
  {
   "cell_type": "markdown",
   "id": "6f926b25",
   "metadata": {},
   "source": [
    "Solidity, Vyper or even Huff are high-level programming language.\n",
    "\n",
    "Fundamentally a solidity file is just a text file full of strings. This is great for the programmer but useless for the EVM. The EVM can only execute bytecode!\n",
    "\n",
    "Another program is needed to translate Solidity to bytecode. This program is called a `compiler`.\n",
    "\n",
    "Only after the compiler translates the Solidity file it can be executed by the EVM.\n",
    "\n",
    "![title](static/solidity-compiler.png)"
   ]
  },
  {
   "cell_type": "markdown",
   "id": "f1483dc7",
   "metadata": {},
   "source": [
    "If a programming language can be translated (compiled) to EVM bytecode it is said to `target` the EVM."
   ]
  },
  {
   "cell_type": "markdown",
   "id": "c223bcf8",
   "metadata": {},
   "source": [
    "## Ethereum vs Bitcoin"
   ]
  },
  {
   "cell_type": "markdown",
   "id": "6cd7486a",
   "metadata": {},
   "source": [
    "What makes Ethereum \"special\" is that it is universal or `Turing complete`. Which means that any arbitrary program can be run on the EVM (we ignore gas and memory restrictions).\n",
    "\n",
    "Bitcoin also has scripting capabilities, called `bitcoin script`. But importantly, bitcoin script is **NOT** turing complete. There are programs that you simply can not implement in bitcoin script. That is not the case with the EVM."
   ]
  },
  {
   "cell_type": "markdown",
   "id": "5a911f04",
   "metadata": {},
   "source": [
    "## Our goal"
   ]
  },
  {
   "cell_type": "markdown",
   "id": "545ce1cb",
   "metadata": {},
   "source": [
    "We will not build a compiler or a new programming language that targets the EVM here. Although this would certainly be interesting!\n",
    "\n",
    "We will build the EVM. A virutal machine that executes EVM bytecode.\n",
    "\n",
    "So something that takes in the input `604260005260206000F3` for example and executes that opcode by opcode."
   ]
  },
  {
   "cell_type": "markdown",
   "id": "110dba1d",
   "metadata": {},
   "source": [
    "### Outline"
   ]
  },
  {
   "cell_type": "markdown",
   "id": "b868e294",
   "metadata": {},
   "source": [
    "We will build the EVM from the bottom up. We will start with the `Stack`, move to `Memory` and `Storage`. Then we implement all EVM `opcodes`. In the end we will combine all these building blocks to create the `EVM`.\n",
    "\n",
    "Then we will use the EVM to execute some bytecode."
   ]
  },
  {
   "cell_type": "markdown",
   "id": "43519f67",
   "metadata": {},
   "source": [
    "## Disclaimer"
   ]
  },
  {
   "cell_type": "markdown",
   "id": "48f6bdf6",
   "metadata": {},
   "source": [
    "I will not go for exact EVM equivalence. This is not the point of this project. This is about learning the core concepts of the EVM from first principles. If I think that some implementation detail is not necessary for understanding the core concepts I will leave them out.\n",
    "\n",
    "If you are looking for a understandable reference implemenation I highly recommend [Py-EVM](https://github.com/ethereum/py-evm).\n",
    "\n",
    "If you think I'm leaving out something interesting, please leave a comment below the video or create an issue or pull request on GitHub."
   ]
  }
 ],
 "metadata": {
  "kernelspec": {
   "display_name": "Python 3 (ipykernel)",
   "language": "python",
   "name": "python3"
  },
  "language_info": {
   "codemirror_mode": {
    "name": "ipython",
    "version": 3
   },
   "file_extension": ".py",
   "mimetype": "text/x-python",
   "name": "python",
   "nbconvert_exporter": "python",
   "pygments_lexer": "ipython3",
   "version": "3.8.9"
  }
 },
 "nbformat": 4,
 "nbformat_minor": 5
}
