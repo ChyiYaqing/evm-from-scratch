{
 "cells": [
  {
   "cell_type": "code",
   "execution_count": 10,
   "id": "95b550aa",
   "metadata": {},
   "outputs": [],
   "source": [
    "%%capture\n",
    "%run utils.ipynb"
   ]
  },
  {
   "cell_type": "code",
   "execution_count": 11,
   "id": "444c69ad",
   "metadata": {},
   "outputs": [],
   "source": [
    "def byte(evm):\n",
    "    i, x = evm.stack.pop(), evm.stack.pop()\n",
    "    if i >= 32: result = 0\n",
    "    else      : result = (x // pow(256, 31 - i)) % 256\n",
    "    evm.pc += 1\n",
    "    evm.gas_dec(3)"
   ]
  },
  {
   "cell_type": "code",
   "execution_count": 12,
   "id": "7c02c981",
   "metadata": {},
   "outputs": [],
   "source": [
    "def shl(evm): \n",
    "    shift, value = cpu.stack.pop(), cpu.stack.pop()\n",
    "    evm.stack.push(value << shift)\n",
    "    evm.pc += 1\n",
    "    evm.gas_dec(3)"
   ]
  },
  {
   "cell_type": "code",
   "execution_count": 13,
   "id": "2089a68a",
   "metadata": {},
   "outputs": [],
   "source": [
    "def shr(evm): \n",
    "    shift, value = evm.stack.pop(), evm.stack.pop()\n",
    "    evm.stack.push(value >> shift)\n",
    "    evm.pc += 1\n",
    "    evm.gas_dec(3)"
   ]
  },
  {
   "cell_type": "code",
   "execution_count": 14,
   "id": "e23f78a5",
   "metadata": {},
   "outputs": [],
   "source": [
    "def sar(evm):\n",
    "    shift, value = evm.stack.pop(), evm.stack.pop()\n",
    "    if shift >= 256:\n",
    "        result = 0 if value >= 0 else UINT_255_NEGATIVE_ONE\n",
    "    else:\n",
    "        result = (value >> shift) & UINT_256_MAX\n",
    "        \n",
    "    evm.stack.push(result)\n",
    "    evm.pc += 1\n",
    "    evm.gas_dec(3)"
   ]
  }
 ],
 "metadata": {
  "kernelspec": {
   "display_name": "Python 3 (ipykernel)",
   "language": "python",
   "name": "python3"
  },
  "language_info": {
   "codemirror_mode": {
    "name": "ipython",
    "version": 3
   },
   "file_extension": ".py",
   "mimetype": "text/x-python",
   "name": "python",
   "nbconvert_exporter": "python",
   "pygments_lexer": "ipython3",
   "version": "3.8.9"
  }
 },
 "nbformat": 4,
 "nbformat_minor": 5
}
