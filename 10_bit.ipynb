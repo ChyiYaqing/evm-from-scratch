{
 "cells": [
  {
   "cell_type": "code",
   "execution_count": 10,
   "id": "95b550aa",
   "metadata": {},
   "outputs": [],
   "source": [
    "%%capture\n",
    "%run utils.ipynb"
   ]
  },
  {
   "cell_type": "markdown",
   "id": "1b1b2c02",
   "metadata": {},
   "source": [
    "# Bit"
   ]
  },
  {
   "cell_type": "markdown",
   "id": "dacd843e",
   "metadata": {},
   "source": [
    "Again, same concept but for bit operations."
   ]
  },
  {
   "cell_type": "markdown",
   "id": "4e98854d",
   "metadata": {},
   "source": [
    "#### Byte"
   ]
  },
  {
   "cell_type": "markdown",
   "id": "1a539e1e",
   "metadata": {},
   "source": [
    "Get one byte from a word (32 bytes)"
   ]
  },
  {
   "cell_type": "code",
   "execution_count": 11,
   "id": "444c69ad",
   "metadata": {},
   "outputs": [],
   "source": [
    "def byte(evm):\n",
    "    i, x = evm.stack.pop(), evm.stack.pop()\n",
    "    if i >= 32: result = 0\n",
    "    else      : result = (x // pow(256, 31 - i)) % 256\n",
    "    evm.pc += 1\n",
    "    evm.gas_dec(3)"
   ]
  },
  {
   "cell_type": "markdown",
   "id": "ae4215ec",
   "metadata": {},
   "source": [
    "## Bit shifts"
   ]
  },
  {
   "cell_type": "markdown",
   "id": "561a78d4",
   "metadata": {},
   "source": [
    "Lets see what a bit shift operation looks like"
   ]
  },
  {
   "cell_type": "code",
   "execution_count": 13,
   "id": "93604d02",
   "metadata": {},
   "outputs": [
    {
     "data": {
      "text/plain": [
       "'0b10110'"
      ]
     },
     "execution_count": 13,
     "metadata": {},
     "output_type": "execute_result"
    }
   ],
   "source": [
    "bin(22) # binary of 22"
   ]
  },
  {
   "cell_type": "code",
   "execution_count": 14,
   "id": "983676ee",
   "metadata": {},
   "outputs": [
    {
     "data": {
      "text/plain": [
       "'0b1011000'"
      ]
     },
     "execution_count": 14,
     "metadata": {},
     "output_type": "execute_result"
    }
   ],
   "source": [
    "bin(22 << 2) # bit shift by 2 to the left"
   ]
  },
  {
   "cell_type": "code",
   "execution_count": 15,
   "id": "7d50c632",
   "metadata": {},
   "outputs": [
    {
     "data": {
      "text/plain": [
       "'0b101'"
      ]
     },
     "execution_count": 15,
     "metadata": {},
     "output_type": "execute_result"
    }
   ],
   "source": [
    "bin(22 >> 2) # bit shift by 2 to the right"
   ]
  },
  {
   "cell_type": "markdown",
   "id": "18b16036",
   "metadata": {},
   "source": [
    "#### Bit Shift left"
   ]
  },
  {
   "cell_type": "markdown",
   "id": "810cd393",
   "metadata": {},
   "source": [
    "`1010` bit shifted left by `2` positions becomes `101000`"
   ]
  },
  {
   "cell_type": "code",
   "execution_count": 12,
   "id": "7c02c981",
   "metadata": {},
   "outputs": [],
   "source": [
    "def shl(evm): \n",
    "    shift, value = cpu.stack.pop(), cpu.stack.pop()\n",
    "    evm.stack.push(value << shift)\n",
    "    evm.pc += 1\n",
    "    evm.gas_dec(3)"
   ]
  },
  {
   "cell_type": "markdown",
   "id": "ed880966",
   "metadata": {},
   "source": [
    "#### Bit Shift right"
   ]
  },
  {
   "cell_type": "markdown",
   "id": "ab2c80f8",
   "metadata": {},
   "source": [
    "`1010` bit shifted left by `2` positions becomes `10`"
   ]
  },
  {
   "cell_type": "code",
   "execution_count": 13,
   "id": "2089a68a",
   "metadata": {},
   "outputs": [],
   "source": [
    "def shr(evm): \n",
    "    shift, value = evm.stack.pop(), evm.stack.pop()\n",
    "    evm.stack.push(value >> shift)\n",
    "    evm.pc += 1\n",
    "    evm.gas_dec(3)"
   ]
  },
  {
   "cell_type": "markdown",
   "id": "5ee69595",
   "metadata": {},
   "source": [
    "#### Signed Shift right"
   ]
  },
  {
   "cell_type": "code",
   "execution_count": 14,
   "id": "e23f78a5",
   "metadata": {},
   "outputs": [],
   "source": [
    "def sar(evm):\n",
    "    shift, value = evm.stack.pop(), evm.stack.pop()\n",
    "    if shift >= 256:\n",
    "        result = 0 if value >= 0 else UINT_255_NEGATIVE_ONE\n",
    "    else:\n",
    "        result = (value >> shift) & UINT_256_MAX\n",
    "        \n",
    "    evm.stack.push(result)\n",
    "    evm.pc += 1\n",
    "    evm.gas_dec(3)"
   ]
  }
 ],
 "metadata": {
  "kernelspec": {
   "display_name": "Python 3 (ipykernel)",
   "language": "python",
   "name": "python3"
  },
  "language_info": {
   "codemirror_mode": {
    "name": "ipython",
    "version": 3
   },
   "file_extension": ".py",
   "mimetype": "text/x-python",
   "name": "python",
   "nbconvert_exporter": "python",
   "pygments_lexer": "ipython3",
   "version": "3.8.9"
  }
 },
 "nbformat": 4,
 "nbformat_minor": 5
}
