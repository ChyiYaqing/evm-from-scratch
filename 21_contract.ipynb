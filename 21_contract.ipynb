{
 "cells": [
  {
   "cell_type": "code",
   "execution_count": 1,
   "id": "dbd20aa5",
   "metadata": {},
   "outputs": [],
   "source": [
    "def revert(evm):\n",
    "    offset, size = evm.stack.pop(), evm.stack.pop()\n",
    "    evm.returndata = evm.memory.access(offset, size)\n",
    "\n",
    "    evm.stop_flag = True\n",
    "    evm.revert_flag = True\n",
    "    evm.pc += 1\n",
    "    evm.gas_dec(0)"
   ]
  }
 ],
 "metadata": {
  "kernelspec": {
   "display_name": "Python 3 (ipykernel)",
   "language": "python",
   "name": "python3"
  },
  "language_info": {
   "codemirror_mode": {
    "name": "ipython",
    "version": 3
   },
   "file_extension": ".py",
   "mimetype": "text/x-python",
   "name": "python",
   "nbconvert_exporter": "python",
   "pygments_lexer": "ipython3",
   "version": "3.8.9"
  }
 },
 "nbformat": 4,
 "nbformat_minor": 5
}
