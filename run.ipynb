{
 "cells": [
  {
   "cell_type": "code",
   "execution_count": 28,
   "id": "363ef6eb",
   "metadata": {},
   "outputs": [],
   "source": [
    "%%capture\n",
    "%run evm.ipynb"
   ]
  },
  {
   "cell_type": "code",
   "execution_count": 29,
   "id": "46af5be8",
   "metadata": {},
   "outputs": [],
   "source": [
    "GAS = 21_000"
   ]
  },
  {
   "cell_type": "code",
   "execution_count": 33,
   "id": "9e6f7adf",
   "metadata": {},
   "outputs": [],
   "source": [
    "PROGRAM = [\n",
    "    PUSH1,\n",
    "    0x42,\n",
    "    STOP,\n",
    "    PUSH1,\n",
    "    0x69\n",
    "]"
   ]
  },
  {
   "cell_type": "code",
   "execution_count": 34,
   "id": "87ba7033",
   "metadata": {},
   "outputs": [],
   "source": [
    "evm = EVM(PROGRAM, GAS)"
   ]
  },
  {
   "cell_type": "code",
   "execution_count": 35,
   "id": "7ecfb1ad",
   "metadata": {},
   "outputs": [
    {
     "name": "stdout",
     "output_type": "stream",
     "text": [
      "op:  0x60\n",
      "pc:  0\n",
      "op:  0x0\n",
      "pc:  2\n"
     ]
    }
   ],
   "source": [
    "evm.run()"
   ]
  }
 ],
 "metadata": {
  "kernelspec": {
   "display_name": "Python 3 (ipykernel)",
   "language": "python",
   "name": "python3"
  },
  "language_info": {
   "codemirror_mode": {
    "name": "ipython",
    "version": 3
   },
   "file_extension": ".py",
   "mimetype": "text/x-python",
   "name": "python",
   "nbconvert_exporter": "python",
   "pygments_lexer": "ipython3",
   "version": "3.8.9"
  }
 },
 "nbformat": 4,
 "nbformat_minor": 5
}
