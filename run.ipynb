{
 "cells": [
  {
   "cell_type": "code",
   "execution_count": 19,
   "id": "f89499a5",
   "metadata": {},
   "outputs": [],
   "source": [
    "%%capture\n",
    "%run evm.ipynb"
   ]
  },
  {
   "cell_type": "code",
   "execution_count": 20,
   "id": "5f443641",
   "metadata": {},
   "outputs": [],
   "source": [
    "GAS = 21_000"
   ]
  },
  {
   "cell_type": "code",
   "execution_count": 24,
   "id": "350aeb48",
   "metadata": {},
   "outputs": [],
   "source": [
    "PROGRAM = [\n",
    "    PUSH1,\n",
    "    0x42,\n",
    "    PUSH1,\n",
    "    0x69\n",
    "]"
   ]
  },
  {
   "cell_type": "code",
   "execution_count": 25,
   "id": "61a9b117",
   "metadata": {},
   "outputs": [],
   "source": [
    "evm = EVM(PROGRAM, GAS)"
   ]
  },
  {
   "cell_type": "code",
   "execution_count": 26,
   "id": "35f3613d",
   "metadata": {},
   "outputs": [
    {
     "name": "stdout",
     "output_type": "stream",
     "text": [
      "op:  0x60\n",
      "pc:  0\n",
      "op:  0x60\n",
      "pc:  2\n"
     ]
    }
   ],
   "source": [
    "evm.run()"
   ]
  }
 ],
 "metadata": {
  "kernelspec": {
   "display_name": "Python 3 (ipykernel)",
   "language": "python",
   "name": "python3"
  },
  "language_info": {
   "codemirror_mode": {
    "name": "ipython",
    "version": 3
   },
   "file_extension": ".py",
   "mimetype": "text/x-python",
   "name": "python",
   "nbconvert_exporter": "python",
   "pygments_lexer": "ipython3",
   "version": "3.8.9"
  }
 },
 "nbformat": 4,
 "nbformat_minor": 5
}
