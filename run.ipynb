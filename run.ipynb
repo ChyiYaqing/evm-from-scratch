{
 "cells": [
  {
   "cell_type": "code",
   "execution_count": 57,
   "id": "385e0b33",
   "metadata": {},
   "outputs": [],
   "source": [
    "%%capture\n",
    "%run evm.ipynb"
   ]
  },
  {
   "cell_type": "code",
   "execution_count": 58,
   "id": "3c421fd3",
   "metadata": {},
   "outputs": [],
   "source": [
    "GAS = 21_000"
   ]
  },
  {
   "cell_type": "code",
   "execution_count": 59,
   "id": "2a700e34",
   "metadata": {},
   "outputs": [],
   "source": [
    "PROGRAM = [\n",
    "    PUSH1,\n",
    "    0x42,\n",
    "    PUSH1,\n",
    "    0x69,\n",
    "    ADD,\n",
    "    STOP\n",
    "]"
   ]
  },
  {
   "cell_type": "code",
   "execution_count": 60,
   "id": "a289cbfd",
   "metadata": {},
   "outputs": [],
   "source": [
    "evm = EVM(PROGRAM, GAS)"
   ]
  },
  {
   "cell_type": "code",
   "execution_count": 61,
   "id": "2da92bf4",
   "metadata": {},
   "outputs": [
    {
     "name": "stdout",
     "output_type": "stream",
     "text": [
      "op:  0x60\n",
      "pc:  0\n",
      "op:  0x60\n",
      "pc:  2\n",
      "op:  0x1\n",
      "pc:  4\n",
      "op:  0x0\n",
      "pc:  5\n"
     ]
    }
   ],
   "source": [
    "evm.run()"
   ]
  }
 ],
 "metadata": {
  "kernelspec": {
   "display_name": "Python 3 (ipykernel)",
   "language": "python",
   "name": "python3"
  },
  "language_info": {
   "codemirror_mode": {
    "name": "ipython",
    "version": 3
   },
   "file_extension": ".py",
   "mimetype": "text/x-python",
   "name": "python",
   "nbconvert_exporter": "python",
   "pygments_lexer": "ipython3",
   "version": "3.8.9"
  }
 },
 "nbformat": 4,
 "nbformat_minor": 5
}
