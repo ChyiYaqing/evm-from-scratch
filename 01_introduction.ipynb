{
 "cells": [
  {
   "cell_type": "markdown",
   "id": "a73a3c4a",
   "metadata": {},
   "source": [
    "# Introduction"
   ]
  },
  {
   "cell_type": "markdown",
   "id": "097764c8",
   "metadata": {},
   "source": [
    "> \"If you can not build it from scratch, you do not understand it\". \n",
    "\n",
    "If you have ever interacted with Ethereum, whether as a developer or as a user, there is a good chance you came across the term `EVM`."
   ]
  },
  {
   "cell_type": "markdown",
   "id": "86720763",
   "metadata": {},
   "source": [
    "## EVM"
   ]
  },
  {
   "cell_type": "markdown",
   "id": "417c933d",
   "metadata": {},
   "source": [
    "The EVM is a central part of Ethereum. It is Ethereum's execution engine, responsible for executing Ethereum programs, also called Smart Contracts."
   ]
  },
  {
   "cell_type": "markdown",
   "id": "e36f50fb",
   "metadata": {},
   "source": [
    "In this tutorial we are going to build the EVM from scratch. However, **this is not a reference implementation.** I will omit implementation details if I believe they are not necessary for understanding how the EVM works. This is about learning the core concepts of the EVM from first principles."
   ]
  },
  {
   "cell_type": "markdown",
   "id": "1658984f",
   "metadata": {},
   "source": [
    "That is why I want to call it a mini-EVM. A working but simplified version of the real thing. A virtual machine that takes in an Ethereum program as input and executes that."
   ]
  },
  {
   "cell_type": "markdown",
   "id": "6b794f53",
   "metadata": {},
   "source": [
    "But what is the EVM exactly? It is a `Virtual Machine` responsible for executing Ethereum `bytecode`."
   ]
  },
  {
   "cell_type": "markdown",
   "id": "ab9242df",
   "metadata": {},
   "source": [
    "## Virutal Machine\n",
    "\n",
    "A virtual machine is like a make-believe computer that runs on your real computer. Instead of needing a separate physical machine, it's all done with software on the computer you already have.\n",
    "\n",
    "Just like a real computer it has its own language. For the EVM this language is called Ethereum bytecode. "
   ]
  },
  {
   "cell_type": "markdown",
   "id": "e9101ece",
   "metadata": {},
   "source": [
    "## Bytecode"
   ]
  },
  {
   "cell_type": "markdown",
   "id": "babdf8b1",
   "metadata": {},
   "source": [
    "Bytecode is simply a list of valid EVM operations"
   ]
  },
  {
   "cell_type": "markdown",
   "id": "3bf819c8",
   "metadata": {},
   "source": [
    "Some of these instructions can be seen below:\n",
    "\n",
    "| OPCODE | NAME | DESCRIPTION |\n",
    "|----------|----------|----------|\n",
    "| 0x00 | STOP | Halts Execution |\n",
    "| 0x01 | ADD | Addition operation |\n",
    "| 0x02 | MUL | Multiplication operation |\n",
    "| 0x03 | SUB | Subtraction operation |\n",
    "| 0x04 | DIV | Integer division operation |\n",
    "\n",
    "Currently there are 144 opcodes. You can see all of them [here](https://www.evm.codes/?fork=shanghai). This number changed is not fixed. New opcodes are added and old ones deprecated all the time.\n",
    "\n",
    "[evm.codes](https://www.evm.codes/?fork=shanghai) is an awesome resource for looking up EVM opcodes."
   ]
  },
  {
   "cell_type": "markdown",
   "id": "2046970f",
   "metadata": {},
   "source": [
    "The `bytecode` is simply a list of opcodes put together. So for example `604260005260206000F3` is bytecode.\n",
    "\n",
    "A Smart Contract is simply bytecode executed by the EVM."
   ]
  },
  {
   "cell_type": "markdown",
   "id": "730b8d72",
   "metadata": {},
   "source": [
    "## Gas"
   ]
  },
  {
   "cell_type": "markdown",
   "id": "68ebd7ba",
   "metadata": {},
   "source": [
    "Every Ethereum node has to execute the same bytecode. To avoid a DDOS attack for example every opcode costs a specific amount of gas.\n",
    "\n",
    "Gas has to be paid in ETH. If you run out of gas while executing your bytecode your execution stops."
   ]
  },
  {
   "cell_type": "markdown",
   "id": "b4fd54c6",
   "metadata": {},
   "source": [
    "## Solidity, Vyper, Huff"
   ]
  },
  {
   "cell_type": "markdown",
   "id": "6f926b25",
   "metadata": {},
   "source": [
    "Solidity, Vyper or even Huff are high-level programming language.\n",
    "\n",
    "Fundamentally a solidity file is just a text file full of strings. This is great for the programmer but useless for the EVM. The EVM can only execute bytecode!\n",
    "\n",
    "Another program is needed to translate Solidity to bytecode. This program is called a `compiler`.\n",
    "\n",
    "Only after the compiler translates the Solidity file it can be executed by the EVM.\n",
    "\n",
    "![title](static/solidity-compiler.png)"
   ]
  },
  {
   "cell_type": "markdown",
   "id": "f1483dc7",
   "metadata": {},
   "source": [
    "If a programming language can be translated (compiled) to EVM bytecode it is said to `target` the EVM."
   ]
  },
  {
   "cell_type": "markdown",
   "id": "c223bcf8",
   "metadata": {},
   "source": [
    "## Ethereum vs Bitcoin"
   ]
  },
  {
   "cell_type": "markdown",
   "id": "6cd7486a",
   "metadata": {},
   "source": [
    "What makes Ethereum \"special\" is that it is universal or `Turing complete`. Which means that any arbitrary program can be run on the EVM (we ignore gas and memory restrictions).\n",
    "\n",
    "Bitcoin also has scripting capabilities, called `bitcoin script`. But importantly, bitcoin script is **NOT** turing complete. There are programs that you simply can not implement in bitcoin script. That is not the case with the EVM."
   ]
  },
  {
   "cell_type": "markdown",
   "id": "110dba1d",
   "metadata": {},
   "source": [
    "### Outline"
   ]
  },
  {
   "cell_type": "markdown",
   "id": "b868e294",
   "metadata": {},
   "source": [
    "We will build the EVM from the bottom up. We will start with the `Stack`, move to `Memory` and `Storage`. Then we implement all EVM `opcodes`. In the end we will combine all these building blocks to create the `EVM`.\n",
    "\n",
    "Then we will use the EVM to execute some bytecode.\n",
    "\n",
    "The context will be as if the bytecode lives alone. There are no other contracts or accounts to interact with. This is a deliberate choice to keep it simple.\n",
    "\n",
    "Opcodes that interact with other accounts, contracts or the ethereum state are mocked."
   ]
  },
  {
   "cell_type": "markdown",
   "id": "3b676cae",
   "metadata": {},
   "source": [
    "### What it is not about"
   ]
  },
  {
   "cell_type": "markdown",
   "id": "4bf2df9c",
   "metadata": {},
   "source": [
    "We will only talk about the execution. We will not talk about consensus mechansims like proof of work of proof of stake.\n",
    "\n",
    "If you are interested in these topics check out my video series I did a while back.\n",
    "\n",
    "We are also only building the EVM in total \"isolation\". Our EVM is only aware of its bytecode. It does not know about other smart contracts or the current state of the blockchain itself."
   ]
  },
  {
   "cell_type": "markdown",
   "id": "08b47f0e",
   "metadata": {},
   "source": [
    "## Resources"
   ]
  },
  {
   "cell_type": "markdown",
   "id": "e548a89f",
   "metadata": {},
   "source": [
    "If you are looking for a understandable reference implemenation I highly recommend [Py-EVM](https://github.com/ethereum/py-evm).\n",
    "\n",
    "[evm.codes](https://www.evm.codes/) is the best reference for looking opcodes and what they do."
   ]
  },
  {
   "cell_type": "markdown",
   "id": "c065238b",
   "metadata": {},
   "source": [
    "## Disclaimer"
   ]
  },
  {
   "cell_type": "markdown",
   "id": "00c9d162",
   "metadata": {},
   "source": [
    "I will not go for exact EVM equivalence. This is not the point of this project. This is about learning the core concepts of the EVM from first principles. If I think that some implementation detail is not necessary for understanding the core concepts I will leave them out.\n",
    "\n",
    "If you think I'm leaving out something interesting, please leave a comment below the video or create an issue or pull request on GitHub."
   ]
  }
 ],
 "metadata": {
  "kernelspec": {
   "display_name": "Python 3 (ipykernel)",
   "language": "python",
   "name": "python3"
  },
  "language_info": {
   "codemirror_mode": {
    "name": "ipython",
    "version": 3
   },
   "file_extension": ".py",
   "mimetype": "text/x-python",
   "name": "python",
   "nbconvert_exporter": "python",
   "pygments_lexer": "ipython3",
   "version": "3.8.9"
  }
 },
 "nbformat": 4,
 "nbformat_minor": 5
}
