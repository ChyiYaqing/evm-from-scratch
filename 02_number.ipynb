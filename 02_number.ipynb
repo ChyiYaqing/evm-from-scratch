{
 "cells": [
  {
   "cell_type": "markdown",
   "id": "7f879daa",
   "metadata": {},
   "source": [
    "# Number"
   ]
  },
  {
   "cell_type": "markdown",
   "id": "c48cc109",
   "metadata": {},
   "source": [
    "A very thin wrapper that makes it easier for us to work with numbers."
   ]
  },
  {
   "cell_type": "code",
   "execution_count": 9,
   "id": "0ec3f414",
   "metadata": {},
   "outputs": [],
   "source": [
    "class Number:\n",
    "    def __init__(self, value):\n",
    "        self.bytes = value\n",
    "        self.value = self.parse(value)\n",
    "        \n",
    "    def parse(self, value):\n",
    "        if type(value) == list:\n",
    "            return int.from_bytes(bytearray(value), \"big\", signed=False)\n",
    "        return value\n",
    "    \n",
    "    def to_bytes(self):\n",
    "        return [hex(a) for a in self.value.to_bytes(32, byteorder=\"big\")]\n",
    "    \n",
    "    def __len__(self): return len(self.bytes)\n",
    "    def __str__(self): return f\"{self.value}\""
   ]
  },
  {
   "cell_type": "code",
   "execution_count": 13,
   "id": "f934d94b",
   "metadata": {},
   "outputs": [],
   "source": [
    "number = Number([0x01, 0x02])"
   ]
  },
  {
   "cell_type": "markdown",
   "id": "0366ba2a",
   "metadata": {},
   "source": [
    "The decimal value of `0x0102` is `258`"
   ]
  },
  {
   "cell_type": "code",
   "execution_count": 17,
   "id": "6fe66e58",
   "metadata": {},
   "outputs": [
    {
     "data": {
      "text/plain": [
       "258"
      ]
     },
     "execution_count": 17,
     "metadata": {},
     "output_type": "execute_result"
    }
   ],
   "source": [
    "number.value"
   ]
  },
  {
   "cell_type": "code",
   "execution_count": 18,
   "id": "dce652ce",
   "metadata": {},
   "outputs": [
    {
     "data": {
      "text/plain": [
       "[1, 2]"
      ]
     },
     "execution_count": 18,
     "metadata": {},
     "output_type": "execute_result"
    }
   ],
   "source": [
    "number.bytes"
   ]
  },
  {
   "cell_type": "markdown",
   "id": "6cff1bc0",
   "metadata": {},
   "source": [
    "Many operations are 32 bytes based"
   ]
  },
  {
   "cell_type": "code",
   "execution_count": 16,
   "id": "2916913f",
   "metadata": {},
   "outputs": [
    {
     "data": {
      "text/plain": [
       "['0x0',\n",
       " '0x0',\n",
       " '0x0',\n",
       " '0x0',\n",
       " '0x0',\n",
       " '0x0',\n",
       " '0x0',\n",
       " '0x0',\n",
       " '0x0',\n",
       " '0x0',\n",
       " '0x0',\n",
       " '0x0',\n",
       " '0x0',\n",
       " '0x0',\n",
       " '0x0',\n",
       " '0x0',\n",
       " '0x0',\n",
       " '0x0',\n",
       " '0x0',\n",
       " '0x0',\n",
       " '0x0',\n",
       " '0x0',\n",
       " '0x0',\n",
       " '0x0',\n",
       " '0x0',\n",
       " '0x0',\n",
       " '0x0',\n",
       " '0x0',\n",
       " '0x0',\n",
       " '0x0',\n",
       " '0x1',\n",
       " '0x2']"
      ]
     },
     "execution_count": 16,
     "metadata": {},
     "output_type": "execute_result"
    }
   ],
   "source": [
    "number.to_bytes()"
   ]
  }
 ],
 "metadata": {
  "kernelspec": {
   "display_name": "Python 3 (ipykernel)",
   "language": "python",
   "name": "python3"
  },
  "language_info": {
   "codemirror_mode": {
    "name": "ipython",
    "version": 3
   },
   "file_extension": ".py",
   "mimetype": "text/x-python",
   "name": "python",
   "nbconvert_exporter": "python",
   "pygments_lexer": "ipython3",
   "version": "3.8.9"
  }
 },
 "nbformat": 4,
 "nbformat_minor": 5
}
