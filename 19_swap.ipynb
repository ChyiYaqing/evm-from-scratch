{
 "cells": [
  {
   "cell_type": "code",
   "execution_count": null,
   "id": "d0c26d81",
   "metadata": {},
   "outputs": [],
   "source": [
    "def _swap(evm, n):\n",
    "    value1, value2 = evm.stack.get(0), evm.stack.get(n+1)\n",
    "    evm.stack.set(0, value2)\n",
    "    evm.stack.set(n+1, value1)\n",
    "\n",
    "    evm.pc += 1\n",
    "    evm.gas_dec(3)"
   ]
  }
 ],
 "metadata": {
  "kernelspec": {
   "display_name": "Python 3 (ipykernel)",
   "language": "python",
   "name": "python3"
  },
  "language_info": {
   "codemirror_mode": {
    "name": "ipython",
    "version": 3
   },
   "file_extension": ".py",
   "mimetype": "text/x-python",
   "name": "python",
   "nbconvert_exporter": "python",
   "pygments_lexer": "ipython3",
   "version": "3.8.9"
  }
 },
 "nbformat": 4,
 "nbformat_minor": 5
}
