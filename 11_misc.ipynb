{
 "cells": [
  {
   "cell_type": "markdown",
   "id": "df67ab16",
   "metadata": {},
   "source": [
    "## Opcode vs Precompile"
   ]
  },
  {
   "cell_type": "markdown",
   "id": "9b86e635",
   "metadata": {},
   "source": [
    "The `sha3` could have easily been a precompile. Weather an operation should be a opcode or a precomiple is a matter of debate in the Ethereum community."
   ]
  },
  {
   "cell_type": "code",
   "execution_count": null,
   "id": "4c317dc4",
   "metadata": {},
   "outputs": [],
   "source": [
    "def sha3(evm):\n",
    "    offset, size = evm.stack.pop(), evm.stack.pop()\n",
    "    value = evm.memory.access(offset, size)\n",
    "    evm.stack.push(keccak(value))\n",
    "\n",
    "    evm.pc += 1\n",
    "\n",
    "    # calculate gas\n",
    "    minimum_word_size = (size + 31) / 32\n",
    "    dynamic_gas = 6 * minimum_word_size # TODO: + memory_expansion_cost\n",
    "    evm.gas_dec(30 + dynamic_gas)"
   ]
  }
 ],
 "metadata": {
  "kernelspec": {
   "display_name": "Python 3 (ipykernel)",
   "language": "python",
   "name": "python3"
  },
  "language_info": {
   "codemirror_mode": {
    "name": "ipython",
    "version": 3
   },
   "file_extension": ".py",
   "mimetype": "text/x-python",
   "name": "python",
   "nbconvert_exporter": "python",
   "pygments_lexer": "ipython3",
   "version": "3.8.9"
  }
 },
 "nbformat": 4,
 "nbformat_minor": 5
}
