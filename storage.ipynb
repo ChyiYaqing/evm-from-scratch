{
 "cells": [
  {
   "cell_type": "markdown",
   "id": "b52d942c",
   "metadata": {},
   "source": [
    "# Storage"
   ]
  },
  {
   "cell_type": "markdown",
   "id": "6b581368",
   "metadata": {},
   "source": [
    "The storage of a contract is represented as a `key`, `value` mapping. A value is 32 bytes.\n",
    "\n",
    "We represent the storage as a dictionary."
   ]
  },
  {
   "cell_type": "markdown",
   "id": "fb3f263d",
   "metadata": {},
   "source": [
    "![title](static/storage.png)"
   ]
  },
  {
   "cell_type": "markdown",
   "id": "35b1d173",
   "metadata": {},
   "source": [
    "source: https://docs.alchemy.com/docs/smart-contract-storage-layout"
   ]
  },
  {
   "cell_type": "code",
   "execution_count": 33,
   "id": "c5b98bfc",
   "metadata": {},
   "outputs": [],
   "source": [
    "class KeyValue:\n",
    "    def __init__(self): self.storage = {}\n",
    "    \n",
    "    def load (self, key)       : return self.storage[key]\n",
    "    def store(self, key, value): self.storage[key] = value"
   ]
  },
  {
   "cell_type": "markdown",
   "id": "d7515c89",
   "metadata": {},
   "source": [
    "It costs different amount of gas whether we access a warm or cold storage slot. \n",
    "A slot is said to be `warm` if it was access before. Otherwise it is `cold`.\n",
    "Accessing a slot that is `cold` costs more gas than accessing a `warm` slot.\n",
    "\n",
    "We implement that logic by keeping track of a `cache`. When we load a storage slot we save its key in that `cache`. If a key is in that `cache` it is said to be warm."
   ]
  },
  {
   "cell_type": "code",
   "execution_count": 43,
   "id": "4d35c9ac",
   "metadata": {},
   "outputs": [],
   "source": [
    "class Storage(KeyValue):\n",
    "    def __init__(self):\n",
    "        super().__init__()\n",
    "        self.cache = []\n",
    "        \n",
    "    def load(self, key):\n",
    "        warm = True if key in self.cache else False\n",
    "        if not warm: self.cache.append(key)\n",
    "        if key not in self.storage: return 0x00\n",
    "        return warm, super().load(key)"
   ]
  },
  {
   "cell_type": "code",
   "execution_count": 44,
   "id": "c9cba219",
   "metadata": {},
   "outputs": [],
   "source": [
    "storage = Storage()"
   ]
  },
  {
   "cell_type": "markdown",
   "id": "352aa83d",
   "metadata": {},
   "source": [
    "We store `420` in storage slot `1`"
   ]
  },
  {
   "cell_type": "code",
   "execution_count": 45,
   "id": "4ff21851",
   "metadata": {},
   "outputs": [],
   "source": [
    "storage.store(1, 420)"
   ]
  },
  {
   "cell_type": "markdown",
   "id": "037c7a05",
   "metadata": {},
   "source": [
    "Notice how the first time retrieving something from storage slot `1` its `cold`"
   ]
  },
  {
   "cell_type": "code",
   "execution_count": 46,
   "id": "7e3f84c7",
   "metadata": {},
   "outputs": [
    {
     "data": {
      "text/plain": [
       "(False, 420)"
      ]
     },
     "execution_count": 46,
     "metadata": {},
     "output_type": "execute_result"
    }
   ],
   "source": [
    "storage.load(1)"
   ]
  },
  {
   "cell_type": "markdown",
   "id": "80e548e3",
   "metadata": {},
   "source": [
    "Now storage slot `1` is `warm`"
   ]
  },
  {
   "cell_type": "code",
   "execution_count": 47,
   "id": "6c25d6ff",
   "metadata": {},
   "outputs": [
    {
     "data": {
      "text/plain": [
       "(True, 420)"
      ]
     },
     "execution_count": 47,
     "metadata": {},
     "output_type": "execute_result"
    }
   ],
   "source": [
    "storage.load(1)"
   ]
  }
 ],
 "metadata": {
  "kernelspec": {
   "display_name": "Python 3 (ipykernel)",
   "language": "python",
   "name": "python3"
  },
  "language_info": {
   "codemirror_mode": {
    "name": "ipython",
    "version": 3
   },
   "file_extension": ".py",
   "mimetype": "text/x-python",
   "name": "python",
   "nbconvert_exporter": "python",
   "pygments_lexer": "ipython3",
   "version": "3.8.9"
  }
 },
 "nbformat": 4,
 "nbformat_minor": 5
}
