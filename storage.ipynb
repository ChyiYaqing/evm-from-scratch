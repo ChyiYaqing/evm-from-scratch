{
 "cells": [
  {
   "cell_type": "markdown",
   "id": "b52d942c",
   "metadata": {},
   "source": [
    "# Storage"
   ]
  },
  {
   "cell_type": "markdown",
   "id": "6b581368",
   "metadata": {},
   "source": [
    "The storage of a contract is represented as a `key`, `value` mapping.\n",
    "\n",
    "We represent the storage as a dictionary."
   ]
  },
  {
   "cell_type": "code",
   "execution_count": 1,
   "id": "c5b98bfc",
   "metadata": {},
   "outputs": [],
   "source": [
    "class Storage:\n",
    "    def __init__(self): self.storage = {}\n",
    "    \n",
    "    def store(self, key, value): self.storage[key] = value\n",
    "    def load (self, key)       : return self.storage[key]"
   ]
  }
 ],
 "metadata": {
  "kernelspec": {
   "display_name": "Python 3 (ipykernel)",
   "language": "python",
   "name": "python3"
  },
  "language_info": {
   "codemirror_mode": {
    "name": "ipython",
    "version": 3
   },
   "file_extension": ".py",
   "mimetype": "text/x-python",
   "name": "python",
   "nbconvert_exporter": "python",
   "pygments_lexer": "ipython3",
   "version": "3.8.9"
  }
 },
 "nbformat": 4,
 "nbformat_minor": 5
}
