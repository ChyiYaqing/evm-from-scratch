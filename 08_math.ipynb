{
 "cells": [
  {
   "cell_type": "markdown",
   "id": "40980a02",
   "metadata": {},
   "source": [
    "# Math"
   ]
  },
  {
   "cell_type": "markdown",
   "id": "0477448b",
   "metadata": {},
   "source": []
  },
  {
   "cell_type": "code",
   "execution_count": 2,
   "id": "f4c2d206",
   "metadata": {},
   "outputs": [],
   "source": [
    "def add(evm):\n",
    "    a, b = evm.stack.pop().value, cpu.stack.pop().value\n",
    "    evm.stack.push(a+b)\n",
    "    evm.pc += 1\n",
    "    evm.gas_dec(3)"
   ]
  },
  {
   "cell_type": "code",
   "execution_count": 3,
   "id": "f947eaa7",
   "metadata": {},
   "outputs": [],
   "source": [
    "def mul(evm):\n",
    "    a, b = evm.stack.pop().value, evm.stack.pop().value\n",
    "    evm.stack.push(a*b)\n",
    "    evm.pc += 1\n",
    "    evm.gas_dec(5)"
   ]
  }
 ],
 "metadata": {
  "kernelspec": {
   "display_name": "Python 3 (ipykernel)",
   "language": "python",
   "name": "python3"
  },
  "language_info": {
   "codemirror_mode": {
    "name": "ipython",
    "version": 3
   },
   "file_extension": ".py",
   "mimetype": "text/x-python",
   "name": "python",
   "nbconvert_exporter": "python",
   "pygments_lexer": "ipython3",
   "version": "3.8.9"
  }
 },
 "nbformat": 4,
 "nbformat_minor": 5
}
