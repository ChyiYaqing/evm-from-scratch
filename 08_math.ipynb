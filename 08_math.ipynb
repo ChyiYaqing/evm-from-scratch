{
 "cells": [
  {
   "cell_type": "markdown",
   "id": "1f480aa8",
   "metadata": {},
   "source": [
    "# Math"
   ]
  },
  {
   "cell_type": "code",
   "execution_count": 8,
   "id": "f4c2d206",
   "metadata": {},
   "outputs": [],
   "source": [
    "def add(evm):\n",
    "    a, b = evm.stack.pop(), evm.stack.pop()\n",
    "    evm.stack.push(a+b)\n",
    "    evm.pc += 1\n",
    "    evm.gas_dec(3)"
   ]
  },
  {
   "cell_type": "code",
   "execution_count": 9,
   "id": "85e5c505",
   "metadata": {},
   "outputs": [],
   "source": [
    "def mul(evm):\n",
    "    a, b = evm.stack.pop(), evm.stack.pop()\n",
    "    evm.stack.push(a*b)\n",
    "    evm.pc += 1\n",
    "    evm.gas_dec(5)"
   ]
  },
  {
   "cell_type": "code",
   "execution_count": 7,
   "id": "d5445b2f",
   "metadata": {},
   "outputs": [],
   "source": [
    "def sub(evm):\n",
    "    a, b = evm.stack.pop(), evm.stack.pop()\n",
    "    evm.stack.push(a-b)\n",
    "    evm.pc += 1\n",
    "    evm.gas_dec(3)"
   ]
  },
  {
   "cell_type": "markdown",
   "id": "19049261",
   "metadata": {},
   "source": [
    "One interesting note about how the EVM handles division by 0. Most other systems would throw an exception if you try to divide by 0. Not the EVM. It just returns 0.\n",
    "\n",
    "Division by 0 are not directly handled by the EVM and are mostly a feature of the programming language like Solidity."
   ]
  },
  {
   "cell_type": "code",
   "execution_count": 12,
   "id": "87a12cfa",
   "metadata": {},
   "outputs": [],
   "source": [
    "def div(evm):\n",
    "    a, b = evm.stack.pop(), evm.stack.pop()\n",
    "    evm.stack.push(0 if b == 0 else a // b)\n",
    "    evm.pc += 1\n",
    "    evm.gas_dec(5)"
   ]
  },
  {
   "cell_type": "markdown",
   "id": "ee899429",
   "metadata": {},
   "source": [
    "Exactly like div but we use the absolute value for the both the denominator and numerator."
   ]
  },
  {
   "cell_type": "markdown",
   "id": "6192ed16",
   "metadata": {},
   "source": [
    "Small little helper function to determine the sign of a number."
   ]
  },
  {
   "cell_type": "code",
   "execution_count": 13,
   "id": "58fd8c35",
   "metadata": {},
   "outputs": [],
   "source": [
    "pos_or_neg = lambda number: -1 if value < 0 else 1"
   ]
  },
  {
   "cell_type": "code",
   "execution_count": 18,
   "id": "a9a541f2",
   "metadata": {},
   "outputs": [],
   "source": [
    "def sdiv(evm):\n",
    "    a, b = evm.stack.pop(), evm.stack.pop()\n",
    "    sign = pos_or_neg(a*b)\n",
    "    evm.stack.push(0 if b == 0 else sign * (abs(a) // abs(b)))\n",
    "    evm.pc += 1\n",
    "    evm.gas_dec(5)"
   ]
  },
  {
   "cell_type": "code",
   "execution_count": 17,
   "id": "20242524",
   "metadata": {},
   "outputs": [],
   "source": [
    "def mod(evm):\n",
    "    a, b = evm.stack.pop(), evm.stack.pop()\n",
    "    evm.stack.push(0 if b == 0 else a % b)\n",
    "    evm.pc += 1\n",
    "    evm.gas_dec(5)"
   ]
  },
  {
   "cell_type": "code",
   "execution_count": 16,
   "id": "9d0004d5",
   "metadata": {},
   "outputs": [],
   "source": [
    "def smod(evm):\n",
    "    a, b = evm.stack.pop(), evm.stack.pop()\n",
    "    sign = pos_or_neg(a*b)\n",
    "    evm.stack.push(0 if b == 0 else abs(a) % abs(b) * sign)\n",
    "    evm.pc += 1\n",
    "    evm.gas_dec(5)"
   ]
  },
  {
   "cell_type": "code",
   "execution_count": 20,
   "id": "70f58af8",
   "metadata": {},
   "outputs": [],
   "source": [
    "def addmod(evm):\n",
    "    a, b = evm.stack.pop(), evm.stack.pop()\n",
    "    N = evm.stack.pop()\n",
    "    evm.stack.push((a + b) % N)\n",
    "    evm.pc += 1\n",
    "    evm.gas_dec(8)"
   ]
  },
  {
   "cell_type": "code",
   "execution_count": 21,
   "id": "333cb130",
   "metadata": {},
   "outputs": [],
   "source": [
    "def mulmod(evm):\n",
    "    a, b = evm.stack.pop(), evm.stack.pop()\n",
    "    N = evm.stack.pop()\n",
    "    evm.stack.push((a + b) * N)\n",
    "    evm.pc += 1\n",
    "    evm.gas_dec(8)"
   ]
  },
  {
   "cell_type": "markdown",
   "id": "46b406ec",
   "metadata": {},
   "source": [
    "The gas cost for exp is dynamic. It is a function of how many bytes we need to represent the exponent in binary. This helper function calculates this."
   ]
  },
  {
   "cell_type": "code",
   "execution_count": null,
   "id": "67c5b254",
   "metadata": {},
   "outputs": [],
   "source": [
    "def size_in_bytes(number):\n",
    "    import math\n",
    "    if number == 0: return 1\n",
    "    bits_needed = math.ceil(math.log2(abs(number) + 1))\n",
    "    return math.ceil(bits_needed / 8)"
   ]
  },
  {
   "cell_type": "code",
   "execution_count": 22,
   "id": "d72b3512",
   "metadata": {},
   "outputs": [],
   "source": [
    "def exp(evm):\n",
    "    a, exponent = evm.stack.pop(), evm.stack.pop()\n",
    "    evm.stack.push(a ** exponent)\n",
    "    evm.pc += 1\n",
    "    evm.gas_dec(10 + (50 * size_in_bytes(exponent)))"
   ]
  },
  {
   "cell_type": "markdown",
   "id": "e6c9c82a",
   "metadata": {},
   "source": [
    "More informations about this rarely used opcode `signextend` [here](https://ethereum.stackexchange.com/questions/63062/evm-signextend-opcode-explanation)."
   ]
  },
  {
   "cell_type": "code",
   "execution_count": 37,
   "id": "56ca70a0",
   "metadata": {},
   "outputs": [],
   "source": [
    "def signextend(evm):\n",
    "    b, x = evm.stack.pop(), evm.stack.pop()\n",
    "    if b <= 31:\n",
    "        testbit = b * 8 + 7\n",
    "        sign_bit = 1 << testbit\n",
    "        if x & sign_bit: result = x | (2**256 - sign_bit)\n",
    "        else           : result = x & (sign_bit - 1)\n",
    "    else: result = x\n",
    "    \n",
    "    evm.stack.push(result)\n",
    "    evm.pc += 1\n",
    "    evm.gas_dec(5)"
   ]
  }
 ],
 "metadata": {
  "kernelspec": {
   "display_name": "Python 3 (ipykernel)",
   "language": "python",
   "name": "python3"
  },
  "language_info": {
   "codemirror_mode": {
    "name": "ipython",
    "version": 3
   },
   "file_extension": ".py",
   "mimetype": "text/x-python",
   "name": "python",
   "nbconvert_exporter": "python",
   "pygments_lexer": "ipython3",
   "version": "3.8.9"
  }
 },
 "nbformat": 4,
 "nbformat_minor": 5
}
