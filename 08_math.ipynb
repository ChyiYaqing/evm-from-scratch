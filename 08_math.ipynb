{
 "cells": [
  {
   "cell_type": "markdown",
   "id": "34d60243",
   "metadata": {},
   "source": [
    "# Math"
   ]
  },
  {
   "cell_type": "code",
   "execution_count": 8,
   "id": "f4c2d206",
   "metadata": {},
   "outputs": [],
   "source": [
    "def add(evm):\n",
    "    a, b = evm.stack.pop(), evm.stack.pop()\n",
    "    evm.stack.push(a+b)\n",
    "    evm.pc += 1\n",
    "    evm.gas_dec(3)"
   ]
  },
  {
   "cell_type": "code",
   "execution_count": 9,
   "id": "bcb8d037",
   "metadata": {},
   "outputs": [],
   "source": [
    "def mul(evm):\n",
    "    a, b = evm.stack.pop(), evm.stack.pop()\n",
    "    evm.stack.push(a*b)\n",
    "    evm.pc += 1\n",
    "    evm.gas_dec(5)"
   ]
  },
  {
   "cell_type": "code",
   "execution_count": 7,
   "id": "a6751266",
   "metadata": {},
   "outputs": [],
   "source": [
    "def sub(evm):\n",
    "    a, b = evm.stack.pop(), evm.stack.pop()\n",
    "    evm.stack.push(a-b)\n",
    "    evm.pc += 1\n",
    "    evm.gas_dec(3)"
   ]
  }
 ],
 "metadata": {
  "kernelspec": {
   "display_name": "Python 3 (ipykernel)",
   "language": "python",
   "name": "python3"
  },
  "language_info": {
   "codemirror_mode": {
    "name": "ipython",
    "version": 3
   },
   "file_extension": ".py",
   "mimetype": "text/x-python",
   "name": "python",
   "nbconvert_exporter": "python",
   "pygments_lexer": "ipython3",
   "version": "3.8.9"
  }
 },
 "nbformat": 4,
 "nbformat_minor": 5
}
