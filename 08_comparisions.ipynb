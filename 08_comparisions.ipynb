{
 "cells": [
  {
   "cell_type": "code",
   "execution_count": 1,
   "id": "339e4d1b",
   "metadata": {},
   "outputs": [],
   "source": [
    "def lt(evm):\n",
    "    a, b = evm.stack.pop(), evm.stack.pop()\n",
    "    evm.stack.push(1 if a < b else 0)\n",
    "    evm.pc += 1\n",
    "    evm.gas_dec(3)"
   ]
  },
  {
   "cell_type": "code",
   "execution_count": null,
   "id": "49c5297a",
   "metadata": {},
   "outputs": [],
   "source": [
    "def slt(evm):\n",
    "    pass"
   ]
  },
  {
   "cell_type": "code",
   "execution_count": 2,
   "id": "6a25678c",
   "metadata": {},
   "outputs": [],
   "source": [
    "def gt(evm):\n",
    "    a, b = evm.stack.pop(), evm.stack.pop()\n",
    "    evm.stack.push(1 if a > b else 0)\n",
    "    evm.pc += 1\n",
    "    evm.gas_dec(3)"
   ]
  },
  {
   "cell_type": "code",
   "execution_count": null,
   "id": "04f86b34",
   "metadata": {},
   "outputs": [],
   "source": [
    "def sgt(evm):\n",
    "    pass"
   ]
  },
  {
   "cell_type": "code",
   "execution_count": 3,
   "id": "5764fb10",
   "metadata": {},
   "outputs": [],
   "source": [
    "def eq(evm):\n",
    "    a, b = cpu.stack.pop(), cpu.stack.pop()\n",
    "    cpu.stack.push(1 if a == b else 0)\n",
    "    cpu.pc += 1\n",
    "    cpu.gas_dec(3)"
   ]
  },
  {
   "cell_type": "code",
   "execution_count": null,
   "id": "d156b420",
   "metadata": {},
   "outputs": [],
   "source": [
    "def iszero(evm):\n",
    "    a = evm.stack.pop()\n",
    "    evm.stack.push(1 if a == 0 else 0)\n",
    "    evm.pc += 1\n",
    "    evm.gas_dec(3)"
   ]
  }
 ],
 "metadata": {
  "kernelspec": {
   "display_name": "Python 3 (ipykernel)",
   "language": "python",
   "name": "python3"
  },
  "language_info": {
   "codemirror_mode": {
    "name": "ipython",
    "version": 3
   },
   "file_extension": ".py",
   "mimetype": "text/x-python",
   "name": "python",
   "nbconvert_exporter": "python",
   "pygments_lexer": "ipython3",
   "version": "3.8.9"
  }
 },
 "nbformat": 4,
 "nbformat_minor": 5
}
