{
 "cells": [
  {
   "cell_type": "code",
   "execution_count": 12,
   "id": "2d075d2b",
   "metadata": {},
   "outputs": [],
   "source": [
    "%%capture\n",
    "%run utils.ipynb"
   ]
  },
  {
   "cell_type": "code",
   "execution_count": 5,
   "id": "a222fba0",
   "metadata": {},
   "outputs": [],
   "source": [
    "def lt(evm):\n",
    "    a, b = evm.stack.pop(), evm.stack.pop()\n",
    "    evm.stack.push(1 if a < b else 0)\n",
    "    evm.pc += 1\n",
    "    evm.gas_dec(3)"
   ]
  },
  {
   "cell_type": "code",
   "execution_count": 7,
   "id": "e626f7af",
   "metadata": {},
   "outputs": [],
   "source": [
    "def slt(evm):\n",
    "    a, b = evm.stack.pop(), evm.stack.pop()\n",
    "    a = unsigned_to_signed(a)\n",
    "    b = unsigned_to_signed(b)\n",
    "    evm.stack.push(1 if a < b else 0)\n",
    "    evm.pc += 1\n",
    "    evm.gas_dec(3)"
   ]
  },
  {
   "cell_type": "code",
   "execution_count": 8,
   "id": "cd80ba41",
   "metadata": {},
   "outputs": [],
   "source": [
    "def gt(evm):\n",
    "    a, b = evm.stack.pop(), evm.stack.pop()\n",
    "    evm.stack.push(1 if a > b else 0)\n",
    "    evm.pc += 1\n",
    "    evm.gas_dec(3)"
   ]
  },
  {
   "cell_type": "code",
   "execution_count": 9,
   "id": "8d564d7d",
   "metadata": {},
   "outputs": [],
   "source": [
    "def sgt(evm):\n",
    "    a, b = evm.stack.pop(), evm.stack.pop()\n",
    "    a = unsigned_to_signed(a)\n",
    "    b = unsigned_to_signed(b)\n",
    "    evm.stack.push(1 if a > b else 0)\n",
    "    evm.pc += 1\n",
    "    evm.gas_dec(3)"
   ]
  },
  {
   "cell_type": "code",
   "execution_count": 10,
   "id": "311a0d2a",
   "metadata": {},
   "outputs": [],
   "source": [
    "def eq(evm):\n",
    "    a, b = cpu.stack.pop(), cpu.stack.pop()\n",
    "    cpu.stack.push(1 if a == b else 0)\n",
    "    cpu.pc += 1\n",
    "    cpu.gas_dec(3)"
   ]
  },
  {
   "cell_type": "code",
   "execution_count": 11,
   "id": "9ac8ac44",
   "metadata": {},
   "outputs": [],
   "source": [
    "def iszero(evm):\n",
    "    a = evm.stack.pop()\n",
    "    evm.stack.push(1 if a == 0 else 0)\n",
    "    evm.pc += 1\n",
    "    evm.gas_dec(3)"
   ]
  }
 ],
 "metadata": {
  "kernelspec": {
   "display_name": "Python 3 (ipykernel)",
   "language": "python",
   "name": "python3"
  },
  "language_info": {
   "codemirror_mode": {
    "name": "ipython",
    "version": 3
   },
   "file_extension": ".py",
   "mimetype": "text/x-python",
   "name": "python",
   "nbconvert_exporter": "python",
   "pygments_lexer": "ipython3",
   "version": "3.8.9"
  }
 },
 "nbformat": 4,
 "nbformat_minor": 5
}
