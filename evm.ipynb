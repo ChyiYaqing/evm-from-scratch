{
 "cells": [
  {
   "cell_type": "code",
   "execution_count": 45,
   "id": "554af289",
   "metadata": {},
   "outputs": [],
   "source": [
    "%%capture\n",
    "%run 02_stack.ipynb\n",
    "%run 03_memory.ipynb\n",
    "%run 04_storage.ipynb\n",
    "%run 05_opcodes.ipynb\n",
    "%run 06_stop.ipynb\n",
    "%run 07_math.ipynb\n",
    "%run push.ipynb"
   ]
  },
  {
   "cell_type": "markdown",
   "id": "91d909b8",
   "metadata": {},
   "source": [
    "# EVM"
   ]
  },
  {
   "cell_type": "markdown",
   "id": "330e47f9",
   "metadata": {},
   "source": [
    "Now we are going to put everything together."
   ]
  },
  {
   "cell_type": "markdown",
   "id": "c727c77e",
   "metadata": {},
   "source": [
    "### Program Counter"
   ]
  },
  {
   "cell_type": "markdown",
   "id": "803b54b9",
   "metadata": {},
   "source": [
    "The program counter indexes into the bytecode. It tells the EVM which opcode to execute next"
   ]
  },
  {
   "cell_type": "code",
   "execution_count": 47,
   "id": "67ef5ff6",
   "metadata": {},
   "outputs": [],
   "source": [
    "class EVM:\n",
    "    def __init__(self,\n",
    "                 program,\n",
    "                 gas):\n",
    "        self.pc      = 0\n",
    "        self.stack   = Stack()\n",
    "        self.memory  = Memory()\n",
    "        self.storage = Storage()\n",
    "        \n",
    "        self.program = program\n",
    "        self.gas     = gas\n",
    "        \n",
    "        self.stop_flag = False\n",
    "        \n",
    "    def peek(self): return self.program[self.pc]\n",
    "    \n",
    "    def gas_dec(self, amount):\n",
    "        if self.gas - amount < 0: \n",
    "            raise Exception(\"out of gas\")\n",
    "        self.gas -= amount\n",
    "\n",
    "    \n",
    "    def should_execute_next_opcode(self):\n",
    "        if self.pc > len(self.program)-1: return False\n",
    "        if self.stop_flag               : return False\n",
    "        \n",
    "        return True\n",
    "    \n",
    "    def run(self):\n",
    "        while self.should_execute_next_opcode():\n",
    "            op = self.program[self.pc]\n",
    "            \n",
    "            if op == STOP: stop(self)\n",
    "                \n",
    "            if op == ADD: add(self)\n",
    "\n",
    "                \n",
    "            if op == PUSH1: _push(self, 1)\n",
    "        \n",
    "    def reset(self):\n",
    "        self.pc      = 0\n",
    "        self.stack   = Stack()\n",
    "        self.memory  = Memory()\n",
    "        self.storage = Storage()"
   ]
  }
 ],
 "metadata": {
  "kernelspec": {
   "display_name": "Python 3 (ipykernel)",
   "language": "python",
   "name": "python3"
  },
  "language_info": {
   "codemirror_mode": {
    "name": "ipython",
    "version": 3
   },
   "file_extension": ".py",
   "mimetype": "text/x-python",
   "name": "python",
   "nbconvert_exporter": "python",
   "pygments_lexer": "ipython3",
   "version": "3.8.9"
  }
 },
 "nbformat": 4,
 "nbformat_minor": 5
}
