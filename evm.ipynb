{
 "cells": [
  {
   "cell_type": "code",
   "execution_count": 19,
   "id": "554af289",
   "metadata": {},
   "outputs": [],
   "source": [
    "%%capture\n",
    "%run stack.ipynb\n",
    "%run memory.ipynb\n",
    "%run storage.ipynb\n",
    "%run opcodes.ipynb\n",
    "%run push.ipynb"
   ]
  },
  {
   "cell_type": "code",
   "execution_count": 24,
   "id": "67ef5ff6",
   "metadata": {},
   "outputs": [],
   "source": [
    "class EVM:\n",
    "    def __init__(self,\n",
    "                 program,\n",
    "                 gas):\n",
    "        self.pc      = 0\n",
    "        self.stack   = Stack()\n",
    "        self.memory  = Memory()\n",
    "        self.storage = Storage()\n",
    "        \n",
    "        self.program = program\n",
    "        self.gas     = gas\n",
    "        \n",
    "    def peek(self): return self.program[self.pc]\n",
    "    \n",
    "    def gas_dec(self, amount):\n",
    "        if self.gas - amount < 0: \n",
    "            raise Exception(f\"{self.gas} gas left and {amount} required\")\n",
    "        self.gas -= amount\n",
    "\n",
    "    \n",
    "    def should_execute_next_opcode(self):\n",
    "        if self.pc > len(self.program)-1: return False\n",
    "        \n",
    "        return True\n",
    "    \n",
    "    def run(self):\n",
    "        while self.should_execute_next_opcode():\n",
    "            op = self.program[self.pc]\n",
    "            print(\"op: \", hex(op))\n",
    "            print(\"pc: \" , self.pc)\n",
    "\n",
    "            \n",
    "            if op == PUSH1: _push(self, 1)\n",
    "        \n",
    "    def reset(self):\n",
    "        self.pc      = 0\n",
    "        self.stack   = Stack()\n",
    "        self.memory  = Memory()\n",
    "        self.storage = Storage()"
   ]
  }
 ],
 "metadata": {
  "kernelspec": {
   "display_name": "Python 3 (ipykernel)",
   "language": "python",
   "name": "python3"
  },
  "language_info": {
   "codemirror_mode": {
    "name": "ipython",
    "version": 3
   },
   "file_extension": ".py",
   "mimetype": "text/x-python",
   "name": "python",
   "nbconvert_exporter": "python",
   "pygments_lexer": "ipython3",
   "version": "3.8.9"
  }
 },
 "nbformat": 4,
 "nbformat_minor": 5
}
