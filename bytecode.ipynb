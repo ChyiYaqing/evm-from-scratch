{
 "cells": [
  {
   "cell_type": "markdown",
   "id": "a8df4652",
   "metadata": {},
   "source": [
    "# Bytecode"
   ]
  },
  {
   "cell_type": "markdown",
   "id": "b990ce33",
   "metadata": {},
   "source": [
    "Now that we have the EVM we can talk a little more about the Bytecode. Bytecode is executed by the EVM."
   ]
  },
  {
   "cell_type": "markdown",
   "id": "328650bf",
   "metadata": {},
   "source": [
    "Valid Bytecode is simply a list of valid opcodes and their operands.\n",
    "We call a list of opcodes and their operands a `program`."
   ]
  },
  {
   "cell_type": "markdown",
   "id": "7faf024a",
   "metadata": {},
   "source": [
    "## Simple Push"
   ]
  },
  {
   "cell_type": "markdown",
   "id": "26583b36",
   "metadata": {},
   "source": [
    "The program that pushes `0x42` on the stack would look like this."
   ]
  },
  {
   "cell_type": "code",
   "execution_count": 1,
   "id": "ad6e1d4d",
   "metadata": {},
   "outputs": [],
   "source": [
    "SIMPLE_PUSH = [0x60, 0x42]"
   ]
  },
  {
   "cell_type": "markdown",
   "id": "623a60a8",
   "metadata": {},
   "source": [
    "or simply: `0x6042`"
   ]
  },
  {
   "cell_type": "markdown",
   "id": "97a31ac1",
   "metadata": {},
   "source": [
    "## Instructions and Data"
   ]
  },
  {
   "cell_type": "markdown",
   "id": "efe4cdde",
   "metadata": {},
   "source": [
    "As you can see, the bytecode consists of both instructions **and** data. It is up to the program writer to make sure that data and instructions are not mixed up.\n",
    "\n",
    "This is what we call the `von Neumann architecture`."
   ]
  },
  {
   "cell_type": "markdown",
   "id": "fba30525",
   "metadata": {},
   "source": [
    "## Simple Add"
   ]
  },
  {
   "cell_type": "markdown",
   "id": "49e81846",
   "metadata": {},
   "source": [
    "Another simple program could look like this. Here we push `0x42` and `0xFF` on the stack and add them together and put the result back onto the stack."
   ]
  },
  {
   "cell_type": "code",
   "execution_count": 3,
   "id": "f3bf38e9",
   "metadata": {},
   "outputs": [],
   "source": [
    "SIMPLE_ADD = [0x60, 0x42, 0x60, 0xFF, 0x01]"
   ]
  },
  {
   "cell_type": "markdown",
   "id": "c192ca5a",
   "metadata": {},
   "source": [
    "After executing this we should have a stack with exactly one element `321` on it."
   ]
  },
  {
   "cell_type": "markdown",
   "id": "9b566707",
   "metadata": {},
   "source": [
    "In the next step we will use the EVM that we built to actually execute these programs."
   ]
  }
 ],
 "metadata": {
  "kernelspec": {
   "display_name": "Python 3 (ipykernel)",
   "language": "python",
   "name": "python3"
  },
  "language_info": {
   "codemirror_mode": {
    "name": "ipython",
    "version": 3
   },
   "file_extension": ".py",
   "mimetype": "text/x-python",
   "name": "python",
   "nbconvert_exporter": "python",
   "pygments_lexer": "ipython3",
   "version": "3.8.9"
  }
 },
 "nbformat": 4,
 "nbformat_minor": 5
}
