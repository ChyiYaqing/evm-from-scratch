{
 "cells": [
  {
   "cell_type": "markdown",
   "id": "32fc76b5",
   "metadata": {},
   "source": [
    "# Bytecode"
   ]
  },
  {
   "cell_type": "markdown",
   "id": "4ea63f33",
   "metadata": {},
   "source": [
    "Now that we have the EVM we can talk a little more about the Bytecode. Bytecode is executed by the EVM."
   ]
  },
  {
   "cell_type": "markdown",
   "id": "f4c51151",
   "metadata": {},
   "source": [
    "Valid Bytecode is simply a list of valid opcodes and their operands.\n",
    "We call a list of opcodes and their operands a `program`."
   ]
  },
  {
   "cell_type": "markdown",
   "id": "03b33e1c",
   "metadata": {},
   "source": [
    "The program that pushes `0x42` on the stack would look like this."
   ]
  },
  {
   "cell_type": "code",
   "execution_count": 1,
   "id": "6bc1c031",
   "metadata": {},
   "outputs": [],
   "source": [
    "SIMPLE_PUSH = [0x60, 0x42]"
   ]
  },
  {
   "cell_type": "markdown",
   "id": "fab8a8f8",
   "metadata": {},
   "source": [
    "or simply: `0x6042`"
   ]
  },
  {
   "cell_type": "markdown",
   "id": "806179e4",
   "metadata": {},
   "source": [
    "Another simple program could look like this. Here we push `0x42` and `0xFF` on the stack and add them together and put the result back onto the stack."
   ]
  },
  {
   "cell_type": "code",
   "execution_count": 3,
   "id": "5030f8db",
   "metadata": {},
   "outputs": [],
   "source": [
    "SIMPLE_ADD = [0x60, 0x42, 0x60, 0xFF, 0x01]"
   ]
  },
  {
   "cell_type": "markdown",
   "id": "f9ce0c9d",
   "metadata": {},
   "source": [
    "After executing this we should have a stack with exactly one element `321` on it."
   ]
  },
  {
   "cell_type": "markdown",
   "id": "05fb01a9",
   "metadata": {},
   "source": [
    "In the next step we will use the EVM that we built to actually execute these programs."
   ]
  }
 ],
 "metadata": {
  "kernelspec": {
   "display_name": "Python 3 (ipykernel)",
   "language": "python",
   "name": "python3"
  },
  "language_info": {
   "codemirror_mode": {
    "name": "ipython",
    "version": 3
   },
   "file_extension": ".py",
   "mimetype": "text/x-python",
   "name": "python",
   "nbconvert_exporter": "python",
   "pygments_lexer": "ipython3",
   "version": "3.8.9"
  }
 },
 "nbformat": 4,
 "nbformat_minor": 5
}
