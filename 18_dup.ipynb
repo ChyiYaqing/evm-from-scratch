{
 "cells": [
  {
   "cell_type": "code",
   "execution_count": 2,
   "id": "bbba6da5",
   "metadata": {},
   "outputs": [],
   "source": [
    "def _dup(evm, n):\n",
    "    # make sure stack is big enough!\n",
    "    value = evm.stack[n]\n",
    "    evm.stack.push(value)\n",
    "\n",
    "    evm.pc += 1\n",
    "    evm.gas_dec(3)"
   ]
  }
 ],
 "metadata": {
  "kernelspec": {
   "display_name": "Python 3 (ipykernel)",
   "language": "python",
   "name": "python3"
  },
  "language_info": {
   "codemirror_mode": {
    "name": "ipython",
    "version": 3
   },
   "file_extension": ".py",
   "mimetype": "text/x-python",
   "name": "python",
   "nbconvert_exporter": "python",
   "pygments_lexer": "ipython3",
   "version": "3.8.9"
  }
 },
 "nbformat": 4,
 "nbformat_minor": 5
}
